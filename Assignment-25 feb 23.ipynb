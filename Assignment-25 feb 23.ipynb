{
 "cells": [
  {
   "cell_type": "code",
   "execution_count": 4,
   "id": "7f90fcef-8e83-47bd-8a9c-f79db95def48",
   "metadata": {},
   "outputs": [],
   "source": [
    "import pandas as pd\n",
    "course_name = ['Data Science', 'Machine Learning', 'Big Data', 'Data Engineer']\n",
    "duration = [2,3,6,4]\n",
    "df = pd.DataFrame(data = {'course_name' : course_name, 'duration' : duration})"
   ]
  },
  {
   "cell_type": "markdown",
   "id": "8877f095-3bfa-4c8d-b7ff-4844b6f13a06",
   "metadata": {},
   "source": [
    "Q1. Write a code to print the data present in the second row of the dataframe, df."
   ]
  },
  {
   "cell_type": "code",
   "execution_count": 5,
   "id": "d4ea4862-5899-4af9-8725-fc04f6c775e6",
   "metadata": {},
   "outputs": [
    {
     "name": "stdout",
     "output_type": "stream",
     "text": [
      "course_name    Machine Learning\n",
      "duration                      3\n",
      "Name: 1, dtype: object\n"
     ]
    }
   ],
   "source": [
    "import pandas as pd\n",
    "\n",
    "course_name = ['Data Science', 'Machine Learning', 'Big Data', 'Data Engineer']\n",
    "duration = [2, 3, 6, 4]\n",
    "\n",
    "df = pd.DataFrame(data={'course_name': course_name, 'duration': duration})\n",
    "\n",
    "# Print the data in the second row\n",
    "second_row_data = df.iloc[1]\n",
    "print(second_row_data)"
   ]
  },
  {
   "cell_type": "markdown",
   "id": "4975e00c-cf12-430b-94b6-a9d720c8f56d",
   "metadata": {},
   "source": [
    "Q2. What is the difference between the functions loc and iloc in pandas.DataFrame?"
   ]
  },
  {
   "cell_type": "code",
   "execution_count": 6,
   "id": "75798476-9e7b-45bd-997e-b79d723ca59a",
   "metadata": {},
   "outputs": [
    {
     "data": {
      "text/plain": [
       "1    Machine Learning\n",
       "2            Big Data\n",
       "3       Data Engineer\n",
       "Name: course_name, dtype: object"
      ]
     },
     "execution_count": 6,
     "metadata": {},
     "output_type": "execute_result"
    }
   ],
   "source": [
    "# Select the row with label 1 and the 'course_name' column\n",
    "df.loc[1, 'course_name']\n",
    "\n",
    "# Select all rows with labels 1 to 3 and the 'course_name' column\n",
    "df.loc[1:3, 'course_name']"
   ]
  },
  {
   "cell_type": "code",
   "execution_count": 7,
   "id": "e06ab167-3d7b-4acd-8d38-81ecbfef641c",
   "metadata": {},
   "outputs": [
    {
     "data": {
      "text/plain": [
       "1    Machine Learning\n",
       "2            Big Data\n",
       "Name: course_name, dtype: object"
      ]
     },
     "execution_count": 7,
     "metadata": {},
     "output_type": "execute_result"
    }
   ],
   "source": [
    "# Select the first row and the first column (0-based indexing)\n",
    "df.iloc[0, 0]\n",
    "\n",
    "# Select all rows from position 1 to 3 (excluding 3) and the first column\n",
    "df.iloc[1:3, 0]"
   ]
  },
  {
   "cell_type": "markdown",
   "id": "d2d46d60-2007-42d2-ad37-47c0ae20a71d",
   "metadata": {},
   "source": [
    "Q3. Reindex the given dataframe using a variable, reindex = [3,0,1,2] and store it in the variable, new_df\n",
    "then find the output for both new_df.loc[2] and new_df.iloc[2].\n",
    "Did you observe any difference in both the outputs? If so then explain it.\n",
    "Consider the below code to answer further questions:\n",
    "import pandas as pd\n",
    "import numpy as np\n",
    "columns = ['column_1', 'column_2', 'column_3', 'column_4', 'column_5', 'column_6']\n",
    "indices = [1,2,3,4,5,6]\n",
    "#Creating a dataframe:\n",
    "df1 = pd.DataFrame(np.random.rand(6,6), columns = columns, index = indices)"
   ]
  },
  {
   "cell_type": "code",
   "execution_count": 9,
   "id": "5c4d4d44-79a6-4c7c-bca9-cd05eb148265",
   "metadata": {},
   "outputs": [
    {
     "name": "stdout",
     "output_type": "stream",
     "text": [
      "Output of new_df.loc[2]:\n",
      " column_1    0.830029\n",
      "column_2    0.469390\n",
      "column_3    0.420862\n",
      "column_4    0.944626\n",
      "column_5    0.292826\n",
      "column_6    0.404306\n",
      "Name: 2, dtype: float64\n",
      "\n",
      "Output of new_df.iloc[2]:\n",
      " column_1    0.833967\n",
      "column_2    0.263854\n",
      "column_3    0.440246\n",
      "column_4    0.874739\n",
      "column_5    0.529310\n",
      "column_6    0.172273\n",
      "Name: 1, dtype: float64\n"
     ]
    }
   ],
   "source": [
    "import pandas as pd\n",
    "import numpy as np\n",
    "\n",
    "# Original DataFrame\n",
    "columns = ['column_1', 'column_2', 'column_3', 'column_4', 'column_5', 'column_6']\n",
    "indices = [1,2,3,4,5,6]\n",
    "df1 = pd.DataFrame(np.random.rand(6,6), columns=columns, index=indices)\n",
    "\n",
    "# Define the reindexing order\n",
    "reindex = [3,0,1,2]\n",
    "\n",
    "# Reindex the DataFrame\n",
    "new_df = df1.reindex(reindex)\n",
    "\n",
    "# Output of new_df.loc[2]\n",
    "output_loc = new_df.loc[2]\n",
    "\n",
    "# Output of new_df.iloc[2]\n",
    "output_iloc = new_df.iloc[2]\n",
    "\n",
    "# Display the results\n",
    "print(\"Output of new_df.loc[2]:\\n\", output_loc)\n",
    "print(\"\\nOutput of new_df.iloc[2]:\\n\", output_iloc)"
   ]
  },
  {
   "cell_type": "markdown",
   "id": "0dd681db-60b2-49ff-b3ea-1090123b50b2",
   "metadata": {},
   "source": [
    "Q4. Write a code to find the following statistical measurements for the above dataframe df1:\n",
    "(i) mean of each and every column present in the dataframe.\n",
    "(ii) standard deviation of column, ‘column_2’"
   ]
  },
  {
   "cell_type": "code",
   "execution_count": 2,
   "id": "e2cd49c6-a69a-4119-83d5-ece14794d01e",
   "metadata": {},
   "outputs": [
    {
     "ename": "NameError",
     "evalue": "name 'df1' is not defined",
     "output_type": "error",
     "traceback": [
      "\u001b[0;31m---------------------------------------------------------------------------\u001b[0m",
      "\u001b[0;31mNameError\u001b[0m                                 Traceback (most recent call last)",
      "Cell \u001b[0;32mIn[2], line 6\u001b[0m\n\u001b[1;32m      1\u001b[0m \u001b[38;5;28;01mimport\u001b[39;00m \u001b[38;5;21;01mpandas\u001b[39;00m \u001b[38;5;28;01mas\u001b[39;00m \u001b[38;5;21;01mpd\u001b[39;00m\n\u001b[1;32m      3\u001b[0m \u001b[38;5;66;03m# Assuming you already have a DataFrame df1\u001b[39;00m\n\u001b[1;32m      4\u001b[0m \n\u001b[1;32m      5\u001b[0m \u001b[38;5;66;03m# (i) Mean of each and every column present in the DataFrame\u001b[39;00m\n\u001b[0;32m----> 6\u001b[0m column_means \u001b[38;5;241m=\u001b[39m \u001b[43mdf1\u001b[49m\u001b[38;5;241m.\u001b[39mmean()\n\u001b[1;32m      8\u001b[0m \u001b[38;5;66;03m# (ii) Standard deviation of column 'column_2'\u001b[39;00m\n\u001b[1;32m      9\u001b[0m column_2_std \u001b[38;5;241m=\u001b[39m df1[\u001b[38;5;124m'\u001b[39m\u001b[38;5;124mcolumn_2\u001b[39m\u001b[38;5;124m'\u001b[39m]\u001b[38;5;241m.\u001b[39mstd()\n",
      "\u001b[0;31mNameError\u001b[0m: name 'df1' is not defined"
     ]
    }
   ],
   "source": [
    "import pandas as pd\n",
    "\n",
    "# Assuming you already have a DataFrame df1\n",
    "\n",
    "# (i) Mean of each and every column present in the DataFrame\n",
    "column_means = df1.mean()\n",
    "\n",
    "# (ii) Standard deviation of column 'column_2'\n",
    "column_2_std = df1['column_2'].std()\n",
    "\n",
    "# Print the results\n",
    "print(\"Mean of each column:\")\n",
    "print(column_means)\n",
    "\n",
    "print(\"\\nStandard deviation of column 'column_2':\")\n",
    "print(column_2_std)"
   ]
  },
  {
   "cell_type": "markdown",
   "id": "e85468df-1695-43ef-bb7e-8d79ff355b27",
   "metadata": {},
   "source": [
    "Q5. Replace the data present in the second row of column, ‘column_2’ by a string variable then find the\n",
    "mean of column, column_2.\n",
    "If you are getting errors in executing it then explain why.\n",
    "[Hint: To replace the data use df1.loc[] and equate this to string data of your choice.]"
   ]
  },
  {
   "cell_type": "code",
   "execution_count": 3,
   "id": "7b76cbdb-6134-43fa-9fa4-0c5dfb34855b",
   "metadata": {},
   "outputs": [
    {
     "name": "stdout",
     "output_type": "stream",
     "text": [
      "Error: unsupported operand type(s) for +: 'int' and 'str'\n"
     ]
    }
   ],
   "source": [
    "import pandas as pd\n",
    "\n",
    "# Creating a sample DataFrame\n",
    "data = {'column_1': [1, 2, 3, 4, 5],\n",
    "        'column_2': [10, 20, 30, 40, 50]}\n",
    "\n",
    "df1 = pd.DataFrame(data)\n",
    "\n",
    "# Replace the data in the second row of 'column_2' with a string\n",
    "df1.loc[1, 'column_2'] = 'string_data'\n",
    "\n",
    "# Attempt to calculate the mean of 'column_2'\n",
    "try:\n",
    "    column_2_mean = df1['column_2'].mean()\n",
    "    print(\"Mean of 'column_2':\", column_2_mean)\n",
    "except Exception as e:\n",
    "    print(\"Error:\", e)"
   ]
  },
  {
   "cell_type": "markdown",
   "id": "28dcc8c9-db73-4752-995a-47daeabb897c",
   "metadata": {},
   "source": [
    "Q6. What do you understand about the windows function in pandas and list the types of windows\n",
    "functions?"
   ]
  },
  {
   "cell_type": "code",
   "execution_count": 4,
   "id": "d299c95e-4820-4c8b-a705-575e581e438c",
   "metadata": {},
   "outputs": [
    {
     "name": "stdout",
     "output_type": "stream",
     "text": [
      "0    NaN\n",
      "1    NaN\n",
      "2    2.0\n",
      "3    3.0\n",
      "4    4.0\n",
      "5    5.0\n",
      "6    6.0\n",
      "7    7.0\n",
      "8    8.0\n",
      "Name: values, dtype: float64\n"
     ]
    }
   ],
   "source": [
    "import pandas as pd\n",
    "\n",
    "# Create a DataFrame\n",
    "data = {'values': [1, 2, 3, 4, 5, 6, 7, 8, 9]}\n",
    "df = pd.DataFrame(data)\n",
    "\n",
    "# Calculate the rolling mean with a window size of 3\n",
    "rolling_mean = df['values'].rolling(window=3).mean()\n",
    "\n",
    "# Print the result\n",
    "print(rolling_mean)"
   ]
  },
  {
   "cell_type": "markdown",
   "id": "93eb5a81-079c-442b-b805-fe01638f6398",
   "metadata": {},
   "source": [
    "Q7. Write a code to print only the current month and year at the time of answering this question.\n",
    "[Hint: Use pandas.datetime function]"
   ]
  },
  {
   "cell_type": "code",
   "execution_count": 5,
   "id": "e5ede91c-e7d8-4e79-b825-30f6da33fdab",
   "metadata": {},
   "outputs": [
    {
     "name": "stdout",
     "output_type": "stream",
     "text": [
      "Current Month: 9\n",
      "Current Year: 2023\n"
     ]
    },
    {
     "name": "stderr",
     "output_type": "stream",
     "text": [
      "/tmp/ipykernel_70/2686999232.py:4: FutureWarning: The parsing of 'now' in pd.to_datetime without `utc=True` is deprecated. In a future version, this will match Timestamp('now') and Timestamp.now()\n",
      "  current_datetime = pd.to_datetime('now')\n"
     ]
    }
   ],
   "source": [
    "import pandas as pd\n",
    "\n",
    "# Get the current date and time\n",
    "current_datetime = pd.to_datetime('now')\n",
    "\n",
    "# Extract the current month and year\n",
    "current_month = current_datetime.month\n",
    "current_year = current_datetime.year\n",
    "\n",
    "# Print the current month and year\n",
    "print(f\"Current Month: {current_month}\")\n",
    "print(f\"Current Year: {current_year}\")"
   ]
  },
  {
   "cell_type": "markdown",
   "id": "d8bd5377-7173-4aa5-8a3a-d3b6dc1b4f10",
   "metadata": {},
   "source": [
    "Q8. Write a Python program that takes in two dates as input (in the format YYYY-MM-DD) and\n",
    "calculates the difference between them in days, hours, and minutes using Pandas time delta. The\n",
    "program should prompt the user to enter the dates and display the result."
   ]
  },
  {
   "cell_type": "code",
   "execution_count": null,
   "id": "c1a7cbe0-9596-4f5d-a35c-b4f115d6b5c4",
   "metadata": {},
   "outputs": [],
   "source": [
    "import pandas as pd\n",
    "\n",
    "# Function to calculate the time difference between two dates\n",
    "def calculate_time_difference(start_date, end_date):\n",
    "    # Convert the input strings to Pandas Timestamp objects\n",
    "    start_datetime = pd.to_datetime(start_date)\n",
    "    end_datetime = pd.to_datetime(end_date)\n",
    "\n",
    "    # Calculate the time difference as a timedelta\n",
    "    time_difference = end_datetime - start_datetime\n",
    "\n",
    "    # Extract days, hours, and minutes from the timedelta\n",
    "    days = time_difference.days\n",
    "    hours, remainder = divmod(time_difference.seconds, 3600)\n",
    "    minutes, _ = divmod(remainder, 60)\n",
    "\n",
    "    return days, hours, minutes\n",
    "\n",
    "# Prompt the user to enter two dates\n",
    "start_date = input(\"Enter the start date (YYYY-MM-DD): \")\n",
    "end_date = input(\"Enter the end date (YYYY-MM-DD): \")\n",
    "\n",
    "# Calculate the time difference\n",
    "days, hours, minutes = calculate_time_difference(start_date, end_date)\n",
    "\n",
    "# Display the result\n",
    "print(f\"Time Difference: {days} days, {hours} hours, {minutes} minutes\")"
   ]
  },
  {
   "cell_type": "markdown",
   "id": "2ba842bc-1fcb-43dd-84d2-fc18c0036c92",
   "metadata": {},
   "source": [
    "Q9. Write a Python program that reads a CSV file containing categorical data and converts a specified\n",
    "column to a categorical data type. The program should prompt the user to enter the file path, column\n",
    "name, and category order, and then display the sorted data."
   ]
  },
  {
   "cell_type": "code",
   "execution_count": null,
   "id": "7d681d2d-987a-4826-be67-42b77c2790ae",
   "metadata": {},
   "outputs": [],
   "source": [
    "import pandas as pd\n",
    "\n",
    "# Function to read and process the CSV file\n",
    "def process_csv_file(file_path, column_name, category_order):\n",
    "    try:\n",
    "        # Read the CSV file into a DataFrame\n",
    "        df = pd.read_csv(file_path)\n",
    "\n",
    "        # Convert the specified column to a categorical data type\n",
    "        df[column_name] = pd.Categorical(df[column_name], categories=category_order, ordered=True)\n",
    "\n",
    "        # Sort the DataFrame based on the categorical column\n",
    "        sorted_df = df.sort_values(by=[column_name])\n",
    "\n",
    "        # Display the sorted data\n",
    "        print(sorted_df)\n",
    "\n",
    "    except FileNotFoundError:\n",
    "        print(f\"File '{file_path}' not found.\")\n",
    "    except KeyError:\n",
    "        print(f\"Column '{column_name}' not found in the CSV file.\")\n",
    "\n",
    "# Prompt the user to enter file path, column name, and category order\n",
    "file_path = input(\"Enter the path to the CSV file: \")\n",
    "column_name = input(\"Enter the column name to convert to categorical: \")\n",
    "category_order = input(\"Enter the category order (comma-separated): \").split(\",\")\n",
    "\n",
    "# Call the function to process the CSV file\n",
    "process_csv_file(file_path, column_name, category_order)"
   ]
  },
  {
   "cell_type": "markdown",
   "id": "de3c9311-abb6-4bdd-8398-2ca69b229deb",
   "metadata": {},
   "source": [
    "Q10. Write a Python program that reads a CSV file containing sales data for different products and\n",
    "visualizes the data using a stacked bar chart to show the sales of each product category over time. The\n",
    "program should prompt the user to enter the file path and display the chart."
   ]
  },
  {
   "cell_type": "code",
   "execution_count": null,
   "id": "2d040f8a-9477-4303-ad71-daa064d3a69b",
   "metadata": {},
   "outputs": [],
   "source": [
    "import pandas as pd\n",
    "import matplotlib.pyplot as plt\n",
    "\n",
    "# Function to read CSV file and create a stacked bar chart\n",
    "def visualize_sales_data(file_path):\n",
    "    try:\n",
    "        # Read the CSV file into a DataFrame\n",
    "        df = pd.read_csv(file_path)\n",
    "\n",
    "        # Assuming the CSV has columns 'Date', 'Product_Category', and 'Sales'\n",
    "        # Convert the 'Date' column to datetime\n",
    "        df['Date'] = pd.to_datetime(df['Date'])\n",
    "\n",
    "        # Pivot the DataFrame to create a table for the stacked bar chart\n",
    "        pivot_table = df.pivot_table(index='Date', columns='Product_Category', values='Sales', aggfunc='sum')\n",
    "\n",
    "        # Create a stacked bar chart\n",
    "        pivot_table.plot(kind='bar', stacked=True, figsize=(10, 6))\n",
    "        plt.title('Stacked Bar Chart of Sales by Product Category Over Time')\n",
    "        plt.xlabel('Date')\n",
    "        plt.ylabel('Sales')\n",
    "        plt.legend(title='Product Category', loc='upper right')\n",
    "        plt.show()\n",
    "\n",
    "    except FileNotFoundError:\n",
    "        print(f\"File '{file_path}' not found.\")\n",
    "    except KeyError:\n",
    "        print(\"Required columns ('Date', 'Product_Category', 'Sales') not found in the CSV file.\")\n",
    "\n",
    "# Prompt the user to enter the file path\n",
    "file_path = input(\"Enter the path to the CSV file containing sales data: \")\n",
    "\n",
    "# Call the function to visualize sales data\n",
    "visualize_sales_data(file_path)"
   ]
  }
 ],
 "metadata": {
  "kernelspec": {
   "display_name": "Python 3 (ipykernel)",
   "language": "python",
   "name": "python3"
  },
  "language_info": {
   "codemirror_mode": {
    "name": "ipython",
    "version": 3
   },
   "file_extension": ".py",
   "mimetype": "text/x-python",
   "name": "python",
   "nbconvert_exporter": "python",
   "pygments_lexer": "ipython3",
   "version": "3.10.8"
  }
 },
 "nbformat": 4,
 "nbformat_minor": 5
}

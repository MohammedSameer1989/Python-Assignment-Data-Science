{
 "cells": [
  {
   "cell_type": "markdown",
   "id": "25d69678-290e-4f62-9466-848dc61b5792",
   "metadata": {},
   "source": [
    "import numpy as np\n",
    "list_ = [ ‘1’ , ’2’ , ‘3’ , ‘4’ , ‘5’ ]\n",
    "array_list = np.array(object = list_)\n",
    "Q1. Is there any difference in the data type of variables list_ and array_list? If there is then write a code\n",
    "to print the data types of both the variables."
   ]
  },
  {
   "cell_type": "code",
   "execution_count": 1,
   "id": "a4397952-c76c-4e4e-a311-5e627b4fbbab",
   "metadata": {},
   "outputs": [
    {
     "name": "stdout",
     "output_type": "stream",
     "text": [
      "Data type of 'list_': <class 'list'>\n",
      "Data type of 'array_list': <class 'numpy.ndarray'>\n"
     ]
    }
   ],
   "source": [
    "import numpy as np\n",
    "\n",
    "list_ = ['1', '2', '3', '4', '5']\n",
    "array_list = np.array(object=list_)\n",
    "\n",
    "# Print the data types of both variables\n",
    "print(\"Data type of 'list_':\", type(list_))\n",
    "print(\"Data type of 'array_list':\", type(array_list))"
   ]
  },
  {
   "cell_type": "markdown",
   "id": "2afbcb4d-fadd-4151-97fc-4cd8d97829d5",
   "metadata": {},
   "source": [
    "Q2. Write a code to print the data type of each and every element of both the variables list_ and\n",
    "arra_list."
   ]
  },
  {
   "cell_type": "code",
   "execution_count": 2,
   "id": "bd39dc93-538e-4f08-9657-59a5cb3f7ce0",
   "metadata": {},
   "outputs": [
    {
     "name": "stdout",
     "output_type": "stream",
     "text": [
      "Data types of elements in 'list_':\n",
      "<class 'str'>\n",
      "<class 'str'>\n",
      "<class 'str'>\n",
      "<class 'str'>\n",
      "<class 'str'>\n",
      "\n",
      "Data types of elements in 'array_list':\n",
      "<class 'numpy.str_'>\n",
      "<class 'numpy.str_'>\n",
      "<class 'numpy.str_'>\n",
      "<class 'numpy.str_'>\n",
      "<class 'numpy.str_'>\n"
     ]
    }
   ],
   "source": [
    "import numpy as np\n",
    "\n",
    "list_ = ['1', '2', '3', '4', '5']\n",
    "array_list = np.array(object=list_)\n",
    "\n",
    "# Print the data type of each element in 'list_'\n",
    "print(\"Data types of elements in 'list_':\")\n",
    "for item in list_:\n",
    "    print(type(item))\n",
    "\n",
    "# Print the data type of each element in 'array_list'\n",
    "print(\"\\nData types of elements in 'array_list':\")\n",
    "for item in array_list:\n",
    "    print(type(item))"
   ]
  },
  {
   "cell_type": "markdown",
   "id": "c404df05-1bbb-4c68-a829-28bf75d58b0d",
   "metadata": {},
   "source": [
    "Q3. Considering the following changes in the variable, array_list:\n",
    "array_list = np.array(object = list_, dtype = int)"
   ]
  },
  {
   "cell_type": "code",
   "execution_count": 3,
   "id": "26709d02-da83-464c-a2fa-48842750456f",
   "metadata": {},
   "outputs": [],
   "source": [
    "array_list = np.array(object=list_, dtype=int)"
   ]
  },
  {
   "cell_type": "code",
   "execution_count": 4,
   "id": "d25ab0fe-8d7e-40d7-b7f7-c98083cbabef",
   "metadata": {},
   "outputs": [
    {
     "name": "stdout",
     "output_type": "stream",
     "text": [
      "Data types of elements in updated 'array_list':\n",
      "<class 'numpy.int64'>\n",
      "<class 'numpy.int64'>\n",
      "<class 'numpy.int64'>\n",
      "<class 'numpy.int64'>\n",
      "<class 'numpy.int64'>\n"
     ]
    }
   ],
   "source": [
    "import numpy as np\n",
    "\n",
    "list_ = ['1', '2', '3', '4', '5']\n",
    "array_list = np.array(object=list_, dtype=int)\n",
    "\n",
    "# Print the data type of each element in the updated 'array_list'\n",
    "print(\"Data types of elements in updated 'array_list':\")\n",
    "for item in array_list:\n",
    "    print(type(item))"
   ]
  },
  {
   "cell_type": "markdown",
   "id": "177fc367-3b3b-41f6-805e-3a6cf344ddf6",
   "metadata": {},
   "source": [
    "Consider the below code to answer further questions:\n",
    "import numpy as np\n",
    "num_list = [ [ 1 , 2 , 3 ] , [ 4 , 5 , 6 ] ]\n",
    "num_array = np.array(object = num_list)\n",
    "Q4. Write a code to find the following characteristics of variable, num_array:\n",
    "(i) shape\n",
    "(ii) size"
   ]
  },
  {
   "cell_type": "code",
   "execution_count": 5,
   "id": "cd427f22-7324-4bd7-af51-3fb17805aed1",
   "metadata": {},
   "outputs": [
    {
     "name": "stdout",
     "output_type": "stream",
     "text": [
      "(i) Shape of 'num_array': (2, 3)\n",
      "(ii) Size of 'num_array': 6\n"
     ]
    }
   ],
   "source": [
    "import numpy as np\n",
    "\n",
    "num_list = [[1, 2, 3], [4, 5, 6]]\n",
    "num_array = np.array(object=num_list)\n",
    "\n",
    "# (i) Find the shape of 'num_array'\n",
    "shape = num_array.shape\n",
    "\n",
    "# (ii) Find the size of 'num_array'\n",
    "size = num_array.size\n",
    "\n",
    "# Print the results\n",
    "print(\"(i) Shape of 'num_array':\", shape)\n",
    "print(\"(ii) Size of 'num_array':\", size)"
   ]
  },
  {
   "cell_type": "markdown",
   "id": "7393a54f-6943-4983-bda2-f397fc1423c1",
   "metadata": {},
   "source": [
    "Q5. Write a code to create numpy array of 3*3 matrix containing zeros only, using a numpy array\n",
    "creation function.\n",
    "[Hint: The size of the array will be 9 and the shape will be (3,3).]"
   ]
  },
  {
   "cell_type": "code",
   "execution_count": null,
   "id": "f7dbcf28-ce10-4cdc-b83d-adbd92d2e94a",
   "metadata": {},
   "outputs": [],
   "source": []
  },
  {
   "cell_type": "code",
   "execution_count": null,
   "id": "cd98300f-2aee-4a69-a5a9-18a613dddfcc",
   "metadata": {},
   "outputs": [],
   "source": []
  },
  {
   "cell_type": "code",
   "execution_count": null,
   "id": "0d287f4d-6394-407d-a87a-93eaae7511c5",
   "metadata": {},
   "outputs": [],
   "source": []
  }
 ],
 "metadata": {
  "kernelspec": {
   "display_name": "Python 3 (ipykernel)",
   "language": "python",
   "name": "python3"
  },
  "language_info": {
   "codemirror_mode": {
    "name": "ipython",
    "version": 3
   },
   "file_extension": ".py",
   "mimetype": "text/x-python",
   "name": "python",
   "nbconvert_exporter": "python",
   "pygments_lexer": "ipython3",
   "version": "3.10.8"
  }
 },
 "nbformat": 4,
 "nbformat_minor": 5
}

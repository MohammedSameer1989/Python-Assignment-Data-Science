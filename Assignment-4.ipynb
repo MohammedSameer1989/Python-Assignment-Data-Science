{
 "cells": [
  {
   "cell_type": "markdown",
   "id": "eda42a46",
   "metadata": {},
   "source": [
    "##Q1. Explain Class and Object with respect to Object-Oriented Programming. Give a suitable example."
   ]
  },
  {
   "cell_type": "code",
   "execution_count": null,
   "id": "a2d18c7e",
   "metadata": {},
   "outputs": [],
   "source": [
    "In object-oriented programming (OOP), a \"class\" and an \"object\" are fundamental concepts that help organize and structure your code. They represent the blueprint and the instances of that blueprint, respectively.\n",
    "\n",
    "1. Class:\n",
    "\n",
    "A class is a blueprint or template for creating objects (instances).\n",
    "It defines the attributes (data members/variables) and methods (functions) that the objects of the class will have.\n",
    "It serves as a template that defines the common characteristics and behaviors that a group of objects will share.\n",
    "2. Object:\n",
    "\n",
    "An object is an instance of a class. It is a real-world entity that is created based on the blueprint provided by the class.\n",
    "Objects have their own unique data and can perform actions defined by the class's methods.\n",
    "They encapsulate both data and the operations that can be performed on that data.\n"
   ]
  },
  {
   "cell_type": "code",
   "execution_count": 1,
   "id": "57692e7d",
   "metadata": {},
   "outputs": [],
   "source": [
    "class Person:\n",
    "    # Constructor method to initialize attributes\n",
    "    def __init__(self, name, age):\n",
    "        self.name = name\n",
    "        self.age = age\n",
    "\n",
    "    # Method to display information about the person\n",
    "    def display_info(self):\n",
    "        print(f\"Name: {self.name}, Age: {self.age}\")\n",
    "\n",
    "# Create two objects (instances) of the \"Person\" class\n",
    "person1 = Person(\"Alice\", 30)\n",
    "person2 = Person(\"Bob\", 25)"
   ]
  },
  {
   "cell_type": "code",
   "execution_count": 2,
   "id": "930ea7cb",
   "metadata": {},
   "outputs": [
    {
     "name": "stdout",
     "output_type": "stream",
     "text": [
      "Name: Alice, Age: 30\n",
      "Name: Bob, Age: 25\n"
     ]
    }
   ],
   "source": [
    "person1.display_info()\n",
    "person2.display_info()"
   ]
  },
  {
   "cell_type": "markdown",
   "id": "0e26b953",
   "metadata": {},
   "source": [
    "##Name the four pillars of OOPs."
   ]
  },
  {
   "cell_type": "code",
   "execution_count": 3,
   "id": "21b87c65",
   "metadata": {},
   "outputs": [
    {
     "ename": "SyntaxError",
     "evalue": "invalid syntax (1460373810.py, line 1)",
     "output_type": "error",
     "traceback": [
      "\u001b[1;36m  File \u001b[1;32m\"C:\\Users\\samee\\AppData\\Local\\Temp\\ipykernel_7232\\1460373810.py\"\u001b[1;36m, line \u001b[1;32m1\u001b[0m\n\u001b[1;33m    1.Encapsulation 2.Inheritance 3.Polymorphism 4.Abstraction\u001b[0m\n\u001b[1;37m      ^\u001b[0m\n\u001b[1;31mSyntaxError\u001b[0m\u001b[1;31m:\u001b[0m invalid syntax\n"
     ]
    }
   ],
   "source": [
    "1.Encapsulation 2.Inheritance 3.Polymorphism 4.Abstraction"
   ]
  },
  {
   "cell_type": "markdown",
   "id": "6f8727ea",
   "metadata": {},
   "source": [
    "##Q3Explain why the __init__() function is used. Give a suitable example."
   ]
  },
  {
   "cell_type": "code",
   "execution_count": null,
   "id": "41d42d8f",
   "metadata": {},
   "outputs": [],
   "source": [
    "The __init__() function in Python is a special method also known as a constructor. It is used to initialize the attributes (variables) of an object when the object is created from a class. In other words, it sets the initial state or properties of an object. The __init__() method is automatically called when you create a new instance of a class."
   ]
  },
  {
   "cell_type": "code",
   "execution_count": 4,
   "id": "bdcc132d",
   "metadata": {},
   "outputs": [
    {
     "name": "stdout",
     "output_type": "stream",
     "text": [
      "Name: Alice, Age: 30\n",
      "Name: Bob, Age: 25\n"
     ]
    }
   ],
   "source": [
    "class Person:\n",
    "    def __init__(self, name, age):\n",
    "        self.name = name  # Initialize the 'name' attribute\n",
    "        self.age = age    # Initialize the 'age' attribute\n",
    "\n",
    "    def display_info(self):\n",
    "        print(f\"Name: {self.name}, Age: {self.age}\")\n",
    "\n",
    "# Create instances of the 'Person' class\n",
    "person1 = Person(\"Alice\", 30)\n",
    "person2 = Person(\"Bob\", 25)\n",
    "person1.display_info()\n",
    "person2.display_info()"
   ]
  },
  {
   "cell_type": "markdown",
   "id": "77a6a355",
   "metadata": {},
   "source": [
    "##Q4-Why self is used in OOPs?"
   ]
  },
  {
   "cell_type": "code",
   "execution_count": null,
   "id": "44c0ade8",
   "metadata": {},
   "outputs": [],
   "source": [
    "In object-oriented programming (OOP), self is a conventionally used name for the first parameter of instance methods in Python. The use of self serves several important purposes:\n",
    "\n",
    "Reference to the Current Object: self is used to refer to the current instance of the class. When you create an object from a class and call its methods, self allows you to access and manipulate the attributes and behaviors specific to that particular instance. Without self, you wouldn't know which instance's data and methods you're working with.\n",
    "\n",
    "Attribute Access: It allows you to access and modify instance attributes (variables) within the class. When you refer to self.attribute_name, you're telling Python to access the attribute belonging to the current instance."
   ]
  },
  {
   "cell_type": "markdown",
   "id": "e055973f",
   "metadata": {},
   "source": [
    "##Q5-What is inheritance? Give an example for each type of inheritance."
   ]
  },
  {
   "cell_type": "code",
   "execution_count": null,
   "id": "dc1300d4",
   "metadata": {},
   "outputs": [],
   "source": [
    "Inheritance is one of the fundamental concepts of object-oriented programming (OOP). It allows you to create a new class (called the derived or subclass) based on an existing class (called the base or superclass). The derived class inherits attributes and methods from the base class, which promotes code reuse and the creation of hierarchical relationships between classes. Inheritance establishes an \"is-a\" relationship between the base and derived classes."
   ]
  },
  {
   "cell_type": "code",
   "execution_count": 6,
   "id": "2271fd30",
   "metadata": {},
   "outputs": [
    {
     "ename": "SyntaxError",
     "evalue": "invalid syntax (2228896446.py, line 1)",
     "output_type": "error",
     "traceback": [
      "\u001b[1;36m  File \u001b[1;32m\"C:\\Users\\samee\\AppData\\Local\\Temp\\ipykernel_7232\\2228896446.py\"\u001b[1;36m, line \u001b[1;32m1\u001b[0m\n\u001b[1;33m    1-single heritance\u001b[0m\n\u001b[1;37m             ^\u001b[0m\n\u001b[1;31mSyntaxError\u001b[0m\u001b[1;31m:\u001b[0m invalid syntax\n"
     ]
    }
   ],
   "source": [
    "1-single heritance\n",
    "class Animal:\n",
    "    def speak(self):\n",
    "        pass\n",
    "\n",
    "\n",
    "class Dog(Animal):\n",
    "    def speak(self):\n",
    "        return \"Woof!\"\n",
    "\n",
    "dog = Dog()\n",
    "print(dog.speak())"
   ]
  },
  {
   "cell_type": "code",
   "execution_count": 8,
   "id": "9af21392",
   "metadata": {},
   "outputs": [
    {
     "name": "stdout",
     "output_type": "stream",
     "text": [
      "Screech!\n"
     ]
    }
   ],
   "source": [
    "##2-Multiple Inhertitance-\n",
    "class Bird:\n",
    "    def speak(self):\n",
    "        pass\n",
    "\n",
    "\n",
    "class Mammal:\n",
    "    def speak(self):\n",
    "        pass\n",
    "\n",
    "\n",
    "class Bat(Bird, Mammal):\n",
    "    def speak(self):\n",
    "        return \"Screech!\"\n",
    "\n",
    "\n",
    "bat = Bat()\n",
    "print(bat.speak())"
   ]
  },
  {
   "cell_type": "code",
   "execution_count": null,
   "id": "efe4caa2",
   "metadata": {},
   "outputs": [],
   "source": []
  }
 ],
 "metadata": {
  "kernelspec": {
   "display_name": "Python 3 (ipykernel)",
   "language": "python",
   "name": "python3"
  },
  "language_info": {
   "codemirror_mode": {
    "name": "ipython",
    "version": 3
   },
   "file_extension": ".py",
   "mimetype": "text/x-python",
   "name": "python",
   "nbconvert_exporter": "python",
   "pygments_lexer": "ipython3",
   "version": "3.9.13"
  }
 },
 "nbformat": 4,
 "nbformat_minor": 5
}

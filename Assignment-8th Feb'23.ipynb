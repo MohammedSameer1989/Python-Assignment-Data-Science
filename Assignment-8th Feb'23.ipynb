{
 "cells": [
  {
   "cell_type": "code",
   "execution_count": null,
   "id": "1baea882",
   "metadata": {},
   "outputs": [],
   "source": [
    "##What is Abstraction in OOps? Explain with an example.\n",
    "Abstraction is one of the fundamental principles of object-oriented programming (OOP). It refers to the concept of simplifying complex reality by modeling classes based on the essential properties and behaviors while hiding the unnecessary details. In other words, abstraction allows you to focus on what an object does rather than how it does it, making the system more manageable and understandable.\n",
    "\n",
    "In OOP, abstraction is achieved through abstract classes and interfaces. Abstract classes are classes that cannot be instantiated and may contain abstract methods (methods without implementation) that must be implemented by concrete subclasses. Interfaces, on the other hand, define a contract that classes must adhere to by implementing all the methods declared in the interface."
   ]
  },
  {
   "cell_type": "code",
   "execution_count": 4,
   "id": "5112d6fd",
   "metadata": {},
   "outputs": [
    {
     "name": "stdout",
     "output_type": "stream",
     "text": [
      "Starting the engine of Toyota Camry car.\n",
      "Stopping the engine of Toyota Camry car.\n",
      "Starting the engine of Honda CBR500R motorcycle.\n",
      "Stopping the engine of Honda CBR500R motorcycle.\n"
     ]
    }
   ],
   "source": [
    "# Define an abstract class representing a Vehicle\n",
    "from abc import ABC, abstractmethod\n",
    "\n",
    "class Vehicle(ABC):\n",
    "    def __init__(self, brand, model):\n",
    "        self.brand = brand\n",
    "        self.model = model\n",
    "\n",
    "    @abstractmethod\n",
    "    def start_engine(self):\n",
    "        pass\n",
    "    @abstractmethod\n",
    "    def stop_engine(self):\n",
    "        pass\n",
    "\n",
    "# Create concrete subclasses that inherit from the Vehicle abstract class\n",
    "class Car(Vehicle):\n",
    "    def start_engine(self):\n",
    "        print(f\"Starting the engine of {self.brand} {self.model} car.\")\n",
    "\n",
    "    def stop_engine(self):\n",
    "        print(f\"Stopping the engine of {self.brand} {self.model} car.\")\n",
    "\n",
    "class Motorcycle(Vehicle):\n",
    "    def start_engine(self):\n",
    "        \n",
    "        print(f\"Starting the engine of {self.brand} {self.model} motorcycle.\")\n",
    "        \n",
    "    def stop_engine(self):\n",
    "        print(f\"Stopping the engine of {self.brand} {self.model} motorcycle.\")\n",
    "\n",
    "# Instantiate objects of concrete subclasses\n",
    "car = Car(\"Toyota\", \"Camry\")\n",
    "motorcycle = Motorcycle(\"Honda\", \"CBR500R\")\n",
    "\n",
    "# Demonstrate abstraction by calling the start and stop engine methods\n",
    "car.start_engine()\n",
    "car.stop_engine()\n",
    "\n",
    "motorcycle.start_engine()\n",
    "motorcycle.stop_engine()"
   ]
  },
  {
   "cell_type": "code",
   "execution_count": null,
   "id": "d47fdb82",
   "metadata": {},
   "outputs": [],
   "source": [
    "##Q2. Differentiate between Abstraction and Encapsulation. Explain with an example.\n",
    "Abstraction and encapsulation are two fundamental concepts in object-oriented programming (OOP), and while they are related, they serve distinct purposes. Let's differentiate between them and provide examples for better understanding:\n",
    "\n",
    "Abstraction:\n",
    "\n",
    "Purpose: Abstraction is the process of simplifying complex systems by representing only the essential features and behaviors of an object while hiding the unnecessary details.\n",
    "\n",
    "Focus: Abstraction focuses on \"what\" an object does rather than \"how\" it does it.\n",
    "\n",
    "Implementation: It is typically implemented using abstract classes and interfaces.\n",
    "    \n",
    "Encapsulation:\n",
    "\n",
    "Purpose: Encapsulation is the bundling of data (attributes) and methods (functions) that operate on the data into a single unit called a class. It restricts direct access to some of an object's components and prevents the accidental modification of data.\n",
    "\n",
    "Focus: Encapsulation focuses on \"how\" the object's data and behaviors are implemented and accessed.    "
   ]
  },
  {
   "cell_type": "code",
   "execution_count": 5,
   "id": "f8de9bf7",
   "metadata": {},
   "outputs": [],
   "source": [
    "class BankAccount:\n",
    "    def __init__(self, account_number, balance):\n",
    "        self.account_number = account_number  # Public attribute\n",
    "        self.__balance = balance  # Private attribute\n",
    "\n",
    "    def deposit(self, amount):\n",
    "        if amount > 0:\n",
    "            self.__balance += amount\n",
    "\n",
    "    def withdraw(self, amount):\n",
    "        if amount > 0 and amount <= self.__balance:\n",
    "            self.__balance -= amount\n",
    "\n",
    "    def get_balance(self):\n",
    "        return self.__balance"
   ]
  },
  {
   "cell_type": "code",
   "execution_count": 8,
   "id": "17dd62bb",
   "metadata": {},
   "outputs": [
    {
     "data": {
      "text/plain": [
       "__main__.BankAccount"
      ]
     },
     "execution_count": 8,
     "metadata": {},
     "output_type": "execute_result"
    }
   ],
   "source": [
    "BankAccount"
   ]
  },
  {
   "cell_type": "code",
   "execution_count": null,
   "id": "40726e25",
   "metadata": {},
   "outputs": [],
   "source": [
    "##What is abc module in python? Why is it used?"
   ]
  },
  {
   "cell_type": "code",
   "execution_count": null,
   "id": "dafd5b57",
   "metadata": {},
   "outputs": [],
   "source": [
    "The abc module in Python stands for \"Abstract Base Classes.\" It is a module in the Python Standard Library that provides a framework for defining and working with abstract base classes. Abstract base classes are classes that are designed to be subclassed but cannot be instantiated themselves. They are used to define a common interface or set of methods that subclasses must implement.\n",
    "\n",
    "The primary purposes of the abc module in Python are as follows:\n",
    "Define Abstract Base Classes (ABCs): The abc module allows you to define abstract base classes by using the ABC metaclass. Abstract base classes serve as templates or blueprints for creating concrete subclasses. They typically define a set of abstract methods that must be implemented by any concrete subclass. This helps enforce a common interface across multiple classes.\n",
    "\n",
    "Enforce Method Implementation: Abstract base classes can enforce that certain methods must be implemented by any subclass. If a subclass does not provide implementations for all the abstract methods defined in the abstract base class, it will raise a TypeError at the time of instantiation.\n",
    "\n",
    "Provide a Common Interface: Abstract base classes help in defining a common interface or contract that related classes should adhere to. This promotes code consistency and makes it easier for developers to understand how to use and extend the classes.    \n",
    "    "
   ]
  },
  {
   "cell_type": "code",
   "execution_count": null,
   "id": "4ce01383",
   "metadata": {},
   "outputs": [],
   "source": [
    "##How can we achieve data abstraction?"
   ]
  },
  {
   "cell_type": "code",
   "execution_count": null,
   "id": "78332b79",
   "metadata": {},
   "outputs": [],
   "source": [
    "Data abstraction in programming refers to the concept of hiding the complex implementation details of data structures and providing a simplified and consistent interface to work with that data. It involves separating the way data is stored and manipulated from the way it is used by the rest of the program. Achieving data abstraction is essential for creating clean, maintainable, and scalable code. Here are some techniques and principles to achieve data abstraction:"
   ]
  },
  {
   "cell_type": "code",
   "execution_count": null,
   "id": "229db58e",
   "metadata": {},
   "outputs": [],
   "source": [
    "1.Use Classes and Objects: Define classes to encapsulate data and methods that operate on that data. Objects of these classes provide a way to interact with the data without exposing its internal details.\n",
    "2.Private and Public Members: In object-oriented languages like Python, use access specifiers like private (e.g., _variable) and public (e.g., variable) to control the visibility of data members. Private members should not be directly accessible from outside the class.    \n",
    "3.Encapsulation: Encapsulate data and methods together within a class. Restrict access to data members and provide public methods to manipulate the data. Encapsulation helps in maintaining data integrity.\n",
    "4.mmutable Data Structures: Use immutable data structures when appropriate. Immutable objects cannot be modified once created, ensuring that data remains consistent.\n",
    "5.Abstract Data Types (ADTs): Define abstract data types that specify a set of operations without specifying their implementation. For example, defining a stack as an ADT with operations like push and pop without specifying how it's implemented.    "
   ]
  },
  {
   "cell_type": "code",
   "execution_count": null,
   "id": "cf1efb81",
   "metadata": {},
   "outputs": [],
   "source": [
    "##Can we create an instance of an abstract class? Explain your answer."
   ]
  },
  {
   "cell_type": "code",
   "execution_count": null,
   "id": "80814869",
   "metadata": {},
   "outputs": [],
   "source": [
    "No, you cannot create an instance of an abstract class in Python. Abstract classes are designed to be templates or blueprints for creating concrete subclasses, and they cannot be instantiated themselves. Attempting to create an instance of an abstract class will result in a TypeError."
   ]
  },
  {
   "cell_type": "code",
   "execution_count": 9,
   "id": "57e6e893",
   "metadata": {},
   "outputs": [
    {
     "name": "stdout",
     "output_type": "stream",
     "text": [
      "TypeError: Can't instantiate abstract class AbstractClass with abstract method abstract_method\n"
     ]
    }
   ],
   "source": [
    "##Here is example:\n",
    "from abc import ABC, abstractmethod\n",
    "\n",
    "class AbstractClass(ABC):\n",
    "    @abstractmethod\n",
    "    def abstract_method(self):\n",
    "        pass\n",
    "\n",
    "# Attempt to create an instance of the abstract class\n",
    "try:\n",
    "    obj = AbstractClass()  # This will raise a TypeError\n",
    "except TypeError as e:\n",
    "    print(\"TypeError:\", e)"
   ]
  },
  {
   "cell_type": "code",
   "execution_count": null,
   "id": "49b5b6c1",
   "metadata": {},
   "outputs": [],
   "source": []
  }
 ],
 "metadata": {
  "kernelspec": {
   "display_name": "Python 3 (ipykernel)",
   "language": "python",
   "name": "python3"
  },
  "language_info": {
   "codemirror_mode": {
    "name": "ipython",
    "version": 3
   },
   "file_extension": ".py",
   "mimetype": "text/x-python",
   "name": "python",
   "nbconvert_exporter": "python",
   "pygments_lexer": "ipython3",
   "version": "3.9.13"
  }
 },
 "nbformat": 4,
 "nbformat_minor": 5
}

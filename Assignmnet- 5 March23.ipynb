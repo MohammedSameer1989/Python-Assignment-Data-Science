{
 "cells": [
  {
   "cell_type": "markdown",
   "id": "3cf1c079-5ad8-4c6c-9492-64ac8856efe9",
   "metadata": {},
   "source": [
    "Q1. How can you create a Bokeh plot using Python code?"
   ]
  },
  {
   "cell_type": "code",
   "execution_count": 1,
   "id": "f2f1a0ec-4835-4ff5-b6aa-8fe283379360",
   "metadata": {},
   "outputs": [
    {
     "name": "stdout",
     "output_type": "stream",
     "text": [
      "Requirement already satisfied: bokeh in /opt/conda/lib/python3.10/site-packages (3.0.3)\n",
      "Requirement already satisfied: xyzservices>=2021.09.1 in /opt/conda/lib/python3.10/site-packages (from bokeh) (2022.9.0)\n",
      "Requirement already satisfied: pillow>=7.1.0 in /opt/conda/lib/python3.10/site-packages (from bokeh) (9.2.0)\n",
      "Requirement already satisfied: numpy>=1.11.3 in /opt/conda/lib/python3.10/site-packages (from bokeh) (1.23.5)\n",
      "Requirement already satisfied: contourpy>=1 in /opt/conda/lib/python3.10/site-packages (from bokeh) (1.0.6)\n",
      "Requirement already satisfied: pandas>=1.2 in /opt/conda/lib/python3.10/site-packages (from bokeh) (1.5.2)\n",
      "Requirement already satisfied: Jinja2>=2.9 in /opt/conda/lib/python3.10/site-packages (from bokeh) (3.1.2)\n",
      "Requirement already satisfied: tornado>=5.1 in /opt/conda/lib/python3.10/site-packages (from bokeh) (6.1)\n",
      "Requirement already satisfied: PyYAML>=3.10 in /opt/conda/lib/python3.10/site-packages (from bokeh) (6.0)\n",
      "Requirement already satisfied: packaging>=16.8 in /opt/conda/lib/python3.10/site-packages (from bokeh) (22.0)\n",
      "Requirement already satisfied: MarkupSafe>=2.0 in /opt/conda/lib/python3.10/site-packages (from Jinja2>=2.9->bokeh) (2.1.1)\n",
      "Requirement already satisfied: python-dateutil>=2.8.1 in /opt/conda/lib/python3.10/site-packages (from pandas>=1.2->bokeh) (2.8.2)\n",
      "Requirement already satisfied: pytz>=2020.1 in /opt/conda/lib/python3.10/site-packages (from pandas>=1.2->bokeh) (2022.6)\n",
      "Requirement already satisfied: six>=1.5 in /opt/conda/lib/python3.10/site-packages (from python-dateutil>=2.8.1->pandas>=1.2->bokeh) (1.16.0)\n",
      "Note: you may need to restart the kernel to use updated packages.\n"
     ]
    }
   ],
   "source": [
    "pip install bokeh"
   ]
  },
  {
   "cell_type": "code",
   "execution_count": 3,
   "id": "a4fb209b-f83e-49bc-92d5-023ad83e02fd",
   "metadata": {},
   "outputs": [],
   "source": [
    "from bokeh.plotting import figure, output_file, show\n",
    "\n",
    "# Sample data\n",
    "x = [1, 2, 3, 4, 5]\n",
    "y = [6, 7, 2, 4, 9]\n",
    "\n",
    "# Create a Bokeh figure\n",
    "plot = figure(title=\"Scatter Plot Example\", x_axis_label=\"X-axis\", y_axis_label=\"Y-axis\")\n",
    "\n",
    "# Add data to the figure\n",
    "plot.circle(x, y, size=10, color=\"blue\", alpha=0.5)\n",
    "\n",
    "# Specify an output file (optional)\n",
    "output_file(\"scatter_plot.html\")\n",
    "\n",
    "# Show the plot (opens in a browser)\n",
    "show(plot)"
   ]
  },
  {
   "cell_type": "markdown",
   "id": "c4fae79b-a57d-4d14-b393-5c4d28e1ef7e",
   "metadata": {},
   "source": [
    "Q2. What are glyphs in Bokeh, and how can you add them to a Bokeh plot? Explain with an example."
   ]
  },
  {
   "cell_type": "code",
   "execution_count": 4,
   "id": "5100151d-e4a6-4f00-b52e-3e1c5d656038",
   "metadata": {},
   "outputs": [],
   "source": [
    "from bokeh.plotting import figure, output_file, show\n",
    "\n",
    "# Sample data\n",
    "x = [1, 2, 3, 4, 5]\n",
    "y = [6, 7, 2, 4, 9]\n",
    "\n",
    "# Create a Bokeh figure\n",
    "plot = figure(title=\"Scatter Plot Example\", x_axis_label=\"X-axis\", y_axis_label=\"Y-axis\")\n",
    "\n",
    "# Add data to the figure using the circle glyph\n",
    "plot.circle(x, y, size=10, color=\"blue\", alpha=0.5)\n",
    "\n",
    "# Specify an output file (optional)\n",
    "output_file(\"scatter_plot.html\")\n",
    "\n",
    "# Show the plot (opens in a browser)\n",
    "show(plot)"
   ]
  },
  {
   "cell_type": "markdown",
   "id": "8f150e30-b060-4b76-afae-44f118b7d26d",
   "metadata": {},
   "source": [
    "Q3. How can you customize the appearance of a Bokeh plot, including the axes, title, and legend?"
   ]
  },
  {
   "cell_type": "code",
   "execution_count": null,
   "id": "bda87aeb-e8db-45cf-b903-b14c4063c97d",
   "metadata": {},
   "outputs": [],
   "source": [
    "plot = figure(title=\"Customized Plot Title\", plot_width=800, plot_height=400, background_fill_color=\"lightgray\")"
   ]
  },
  {
   "cell_type": "code",
   "execution_count": 6,
   "id": "f8d1bb24-09fd-4d21-a576-f7d5523963ea",
   "metadata": {},
   "outputs": [],
   "source": [
    "plot.xaxis.axis_label = \"X-axis Label\"\n",
    "plot.yaxis.axis_label = \"Y-axis Label\"\n",
    "plot.xaxis.major_label_text_color = \"blue\"\n",
    "plot.yaxis.major_label_text_font_size = \"12pt\"\n",
    "plot.xgrid.grid_line_color = \"gray\"\n",
    "plot.ygrid.grid_line_dash = \"dashed\""
   ]
  },
  {
   "cell_type": "code",
   "execution_count": 7,
   "id": "558b0f5b-5abb-4854-a44f-94f6857e5be2",
   "metadata": {},
   "outputs": [],
   "source": [
    "plot.circle(x, y, size=10, color=\"blue\", alpha=0.5, legend_label=\"Data Points\")\n",
    "plot.legend.title = \"Legend Title\"\n",
    "plot.legend.location = \"top_right\""
   ]
  },
  {
   "cell_type": "code",
   "execution_count": 8,
   "id": "e1cef89b-fb21-4c12-8a84-991e5908c0ae",
   "metadata": {},
   "outputs": [],
   "source": [
    "plot.border_fill_color = \"white\"\n",
    "plot.outline_line_color = \"black\"\n",
    "plot.outline_line_width = 2"
   ]
  },
  {
   "cell_type": "code",
   "execution_count": 9,
   "id": "ffdd8c88-39a1-4577-918d-8490b7d0d022",
   "metadata": {},
   "outputs": [],
   "source": [
    "plot = figure(tools=\"pan,box_zoom,reset,save\")"
   ]
  },
  {
   "cell_type": "code",
   "execution_count": null,
   "id": "36832815-9ed7-42ea-a779-ddf4b47d0ae7",
   "metadata": {},
   "outputs": [],
   "source": [
    "plot.x_range = (0, 10)\n",
    "plot.y_range = (0, 15)"
   ]
  },
  {
   "cell_type": "markdown",
   "id": "bf6071aa-3cca-4b51-8cf8-7c8da4f32277",
   "metadata": {},
   "source": [
    "Q4. What is a Bokeh server, and how can you use it to create interactive plots that can be updated in\n",
    "real time?"
   ]
  },
  {
   "cell_type": "code",
   "execution_count": null,
   "id": "fe0b619a-68e8-4b69-abd0-da63fbd19960",
   "metadata": {},
   "outputs": [],
   "source": [
    "Bokeh Server is a component of the Bokeh data visualization library that allows you to create interactive web applications and dashboards with real-time updates. It enables you to build web applications that incorporate Bokeh plots and widgets, and it runs a Python server to handle communication between the client (web browser) and the server (Python code). With Bokeh Server, you can create interactive plots that respond to user interactions and data changes in real time.\n",
    "\n",
    "Here are the key features of Bokeh Server:\n",
    "\n",
    "Real-Time Updates: Bokeh Server allows you to create plots and widgets that can be updated dynamically in response to user interactions, changes in data, or timer-based updates.\n",
    "\n",
    "User Interactions: You can capture and handle various user interactions such as clicks, selections, and input changes, allowing you to create responsive and interactive applications.\n",
    "\n",
    "Sharing Data: Bokeh Server enables you to share data between the client and server, making it possible to manipulate and update the data on the server side and have those changes reflected in the plot on the client side.\n",
    "\n",
    "Streaming Data: You can use Bokeh's streaming capability to continuously update plots with new data points, which is useful for real-time data streaming applications.\n",
    "\n",
    "Here's a basic outline of how to use Bokeh Server to create interactive plots with real-time updates:\n",
    "\n",
    "Import Bokeh Server Modules:\n",
    "Import the necessary Bokeh Server modules, including curdoc (for creating a document), figure (for creating plots), and widgets (for interactive widgets).\n",
    "\n",
    "Create a Document: Use curdoc() to create a Bokeh document, which represents the current state of your application. All Bokeh models (plots, widgets, etc.) will be attached to this document.\n",
    "\n",
    "Define Callbacks: Create callback functions that specify what should happen when user interactions occur or when data needs to be updated. Callbacks can be attached to widgets, such as buttons or sliders, and can update the plot based on user input or other triggers.\n",
    "\n",
    "Create Plots and Widgets: Create Bokeh plots and interactive widgets (e.g., buttons, sliders) that you want to include in your application. Attach these plots and widgets to the document.\n",
    "\n",
    "Run the Bokeh Server: Use the bokeh serve command to start the Bokeh Server, providing the Python script as an argument. This will start the server and make your application accessible via a web browser.\n",
    "\n",
    "Access the Application: Open a web browser and navigate to the URL provided by the Bokeh Server to interact with your application. You can share this URL with others to allow them to use the interactive application as well."
   ]
  },
  {
   "cell_type": "code",
   "execution_count": null,
   "id": "242320a2-8424-49b4-95b0-edf2365db0c0",
   "metadata": {},
   "outputs": [],
   "source": [
    "from bokeh.plotting import figure, curdoc\n",
    "from bokeh.models import Button\n",
    "\n",
    "# Create a Bokeh figure\n",
    "plot = figure(plot_width=400, plot_height=400)\n",
    "plot.line([], [], line_width=2)\n",
    "\n",
    "# Create a button\n",
    "button = Button(label=\"Update Plot\")\n",
    "\n",
    "# Define a callback function to update the plot\n",
    "def update_plot():\n",
    "    x = [1, 2, 3, 4, 5]\n",
    "    y = [i ** 2 for i in x]\n",
    "    plot.line(x, y, line_width=2)\n",
    "\n",
    "# Attach the callback function to the button\n",
    "button.on_click(update_plot)\n",
    "\n",
    "# Add the plot and button to the document\n",
    "curdoc().add_root(plot)\n",
    "curdoc().add_root(button)\n"
   ]
  },
  {
   "cell_type": "code",
   "execution_count": null,
   "id": "9df24e49-d878-43f6-95da-2eb8d6b32c8c",
   "metadata": {},
   "outputs": [],
   "source": []
  },
  {
   "cell_type": "code",
   "execution_count": null,
   "id": "441a6596-cf10-4045-a3f7-586900f246c1",
   "metadata": {},
   "outputs": [],
   "source": []
  }
 ],
 "metadata": {
  "kernelspec": {
   "display_name": "Python 3 (ipykernel)",
   "language": "python",
   "name": "python3"
  },
  "language_info": {
   "codemirror_mode": {
    "name": "ipython",
    "version": 3
   },
   "file_extension": ".py",
   "mimetype": "text/x-python",
   "name": "python",
   "nbconvert_exporter": "python",
   "pygments_lexer": "ipython3",
   "version": "3.10.8"
  }
 },
 "nbformat": 4,
 "nbformat_minor": 5
}

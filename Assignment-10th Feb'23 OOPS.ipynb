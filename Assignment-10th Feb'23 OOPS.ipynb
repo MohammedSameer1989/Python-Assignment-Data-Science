{
 "cells": [
  {
   "cell_type": "markdown",
   "id": "06a04e0d",
   "metadata": {},
   "source": [
    "##Q1. Which function is used to open a file? What are the different modes of opening a file? Explain each mode\n",
    "of file opening."
   ]
  },
  {
   "cell_type": "code",
   "execution_count": null,
   "id": "0d437f92",
   "metadata": {},
   "outputs": [],
   "source": [
    "##In most programming languages, including Python and C/C++, the function used to open a file is typically open(). However, the specific way you use this function and the modes available may vary slightly depending on the programming language. I'll provide examples in Python and C/C++ to illustrate how to open a file and the different modes of opening a file in each language:"
   ]
  },
  {
   "cell_type": "code",
   "execution_count": 2,
   "id": "f40b5854",
   "metadata": {},
   "outputs": [
    {
     "ename": "NameError",
     "evalue": "name 'filename' is not defined",
     "output_type": "error",
     "traceback": [
      "\u001b[1;31m---------------------------------------------------------------------------\u001b[0m",
      "\u001b[1;31mNameError\u001b[0m                                 Traceback (most recent call last)",
      "\u001b[1;32m~\\AppData\\Local\\Temp\\ipykernel_16228\\4260870320.py\u001b[0m in \u001b[0;36m<module>\u001b[1;34m\u001b[0m\n\u001b[0;32m      1\u001b[0m \u001b[1;31m##In Python, you can use the open() function to open a file. The basic syntax is as follows:\u001b[0m\u001b[1;33m\u001b[0m\u001b[1;33m\u001b[0m\u001b[0m\n\u001b[1;32m----> 2\u001b[1;33m \u001b[0mopen\u001b[0m\u001b[1;33m(\u001b[0m\u001b[0mfilename\u001b[0m\u001b[1;33m,\u001b[0m \u001b[0mmode\u001b[0m\u001b[1;33m)\u001b[0m\u001b[1;33m\u001b[0m\u001b[1;33m\u001b[0m\u001b[0m\n\u001b[0m",
      "\u001b[1;31mNameError\u001b[0m: name 'filename' is not defined"
     ]
    }
   ],
   "source": [
    "##In Python, you can use the open() function to open a file. The basic syntax is as follows:\n",
    "open(filename, mode)   \n",
    "\n",
    "1.'r' - Read Mode:\n",
    "\n",
    "Opens the file for reading (default mode if not specified).\n",
    "Raises an error if the file does not exist.\n",
    "2.'w' - Write Mode:\n",
    "\n",
    "Opens the file for writing.\n",
    "If the file already exists, it truncates (empties) its contents. If it doesn't exist, it creates a new empty file.\n",
    "3.'a' - Append Mode:\n",
    "\n",
    "Opens the file for writing, but appends data to the end instead of overwriting existing content.\n",
    "If the file doesn't exist, it creates a new empty file."
   ]
  },
  {
   "cell_type": "markdown",
   "id": "df0e867b",
   "metadata": {},
   "source": [
    "##Q2. Why close() function is used? Why is it important to close a file?"
   ]
  },
  {
   "cell_type": "code",
   "execution_count": null,
   "id": "3d92b483",
   "metadata": {},
   "outputs": [],
   "source": [
    "Ans-The close() function (or method) is used to close a file that has been opened for reading, writing, or any other file operations. It's essential to close a file properly for several important reasons:\n",
    "1.Resource Management: When a file is opened, the operating system allocates certain resources to manage that open file, such as file handles, memory buffers, and other system resources. If you don't close the file, these resources may not be released until the program terminates, potentially leading to resource leaks and decreased system performance.\n",
    "2.Data Integrity: If you're writing data to a file, not closing it properly can result in incomplete or corrupted files. Data may be buffered in memory, waiting to be written to the file, and if the file isn't closed, this data may not be flushed to the file. Closing the file ensures that all data is written and that the file's state is properly updated.\n",
    "3.File Locking: Some operating systems and file systems impose restrictions on concurrent access to files. If you don't close a file after writing to it, other processes or programs may be unable to access or modify it until it's closed, which can lead to unexpected issues.\n",
    "\n",
    "4.File Deletion or Renaming: In some cases, you may want to delete or rename a file after you're done with it. If the file is still open, many operating systems won't allow you to perform these actions, resulting in errors or unexpected behavior.\n",
    "\n",
    "5.Avoiding Data Loss: If you're reading data from a file, failing to close it can potentially lead to data loss if the file is modified or deleted by another process while it's still open.    \n"
   ]
  },
  {
   "cell_type": "markdown",
   "id": "403a2c5e",
   "metadata": {},
   "source": [
    "##Q3. Write a python program to create a text file. Write ‘I want to become a Data Scientist’ in that file. Then\n",
    "close the file. Open this file and read the content of the file."
   ]
  },
  {
   "cell_type": "code",
   "execution_count": null,
   "id": "f36bf485",
   "metadata": {},
   "outputs": [],
   "source": [
    "You can create a text file, write the desired text to it, close the file, and then open it to read the content using Python. Here's a simple Python program to do this:"
   ]
  },
  {
   "cell_type": "code",
   "execution_count": 4,
   "id": "9b92f556",
   "metadata": {},
   "outputs": [
    {
     "name": "stdout",
     "output_type": "stream",
     "text": [
      "I want to become a Data Scientist\n"
     ]
    }
   ],
   "source": [
    "# Create a text file and write data to it\n",
    "with open('data_scientist.txt', 'w') as file:\n",
    "    file.write('I want to become a Data Scientist')\n",
    "\n",
    "# Open the file and read its content\n",
    "with open('data_scientist.txt', 'r') as file:\n",
    "    content = file.read()\n",
    "\n",
    "# Print the content to the console\n",
    "print(content)"
   ]
  },
  {
   "cell_type": "markdown",
   "id": "8da53e9c",
   "metadata": {},
   "source": [
    "##Q4. Explain the following with python code: read(), readline() and readlines()."
   ]
  },
  {
   "cell_type": "code",
   "execution_count": null,
   "id": "aca66994",
   "metadata": {},
   "outputs": [],
   "source": [
    "Ans-In Python, the read(), readline(), and readlines() methods are used to read data from a file. Each of these methods has a different way of reading and processing the contents of a file.\n",
    "\n",
    "\n"
   ]
  },
  {
   "cell_type": "code",
   "execution_count": 10,
   "id": "870b73b7",
   "metadata": {},
   "outputs": [
    {
     "ename": "FileNotFoundError",
     "evalue": "[Errno 2] No such file or directory: 'example.txt'",
     "output_type": "error",
     "traceback": [
      "\u001b[1;31m---------------------------------------------------------------------------\u001b[0m",
      "\u001b[1;31mFileNotFoundError\u001b[0m                         Traceback (most recent call last)",
      "\u001b[1;32m~\\AppData\\Local\\Temp\\ipykernel_16228\\3013734835.py\u001b[0m in \u001b[0;36m<module>\u001b[1;34m\u001b[0m\n\u001b[0;32m      5\u001b[0m \u001b[1;31m##If you don't specify a size argument, it will read the entire file.\u001b[0m\u001b[1;33m\u001b[0m\u001b[1;33m\u001b[0m\u001b[0m\n\u001b[0;32m      6\u001b[0m \u001b[1;31m## Open a file for reading\u001b[0m\u001b[1;33m\u001b[0m\u001b[1;33m\u001b[0m\u001b[0m\n\u001b[1;32m----> 7\u001b[1;33m \u001b[1;32mwith\u001b[0m \u001b[0mopen\u001b[0m\u001b[1;33m(\u001b[0m\u001b[1;34m'example.txt'\u001b[0m\u001b[1;33m,\u001b[0m \u001b[1;34m'r'\u001b[0m\u001b[1;33m)\u001b[0m \u001b[1;32mas\u001b[0m \u001b[0mfile\u001b[0m\u001b[1;33m:\u001b[0m\u001b[1;33m\u001b[0m\u001b[1;33m\u001b[0m\u001b[0m\n\u001b[0m\u001b[0;32m      8\u001b[0m     \u001b[0mcontent\u001b[0m \u001b[1;33m=\u001b[0m \u001b[0mfile\u001b[0m\u001b[1;33m.\u001b[0m\u001b[0mread\u001b[0m\u001b[1;33m(\u001b[0m\u001b[1;33m)\u001b[0m\u001b[1;33m\u001b[0m\u001b[1;33m\u001b[0m\u001b[0m\n\u001b[0;32m      9\u001b[0m \u001b[1;33m\u001b[0m\u001b[0m\n",
      "\u001b[1;31mFileNotFoundError\u001b[0m: [Errno 2] No such file or directory: 'example.txt'"
     ]
    }
   ],
   "source": [
    "##read():\n",
    "\n",
    "##The read() method is used to read the entire content of a file as a single string.\n",
    "##It reads the file from the current position of the file pointer (cursor) to the end of the file.\n",
    "##If you don't specify a size argument, it will read the entire file.\n",
    "## Open a file for reading\n",
    "with open('example.txt', 'r') as file:\n",
    "    content = file.read()\n",
    "\n",
    "# Print the entire content of the file\n",
    "print(content)"
   ]
  },
  {
   "cell_type": "code",
   "execution_count": null,
   "id": "6d72df14",
   "metadata": {},
   "outputs": [],
   "source": [
    "##readline():\n",
    "\n",
    "The readline() method is used to read a single line from the file.\n",
    "It reads from the current position of the file pointer until it encounters a newline character ('\\n') or reaches the end of the file."
   ]
  },
  {
   "cell_type": "code",
   "execution_count": 11,
   "id": "f67d7947",
   "metadata": {},
   "outputs": [
    {
     "ename": "FileNotFoundError",
     "evalue": "[Errno 2] No such file or directory: 'example.txt'",
     "output_type": "error",
     "traceback": [
      "\u001b[1;31m---------------------------------------------------------------------------\u001b[0m",
      "\u001b[1;31mFileNotFoundError\u001b[0m                         Traceback (most recent call last)",
      "\u001b[1;32m~\\AppData\\Local\\Temp\\ipykernel_16228\\1825339156.py\u001b[0m in \u001b[0;36m<module>\u001b[1;34m\u001b[0m\n\u001b[1;32m----> 1\u001b[1;33m \u001b[1;32mwith\u001b[0m \u001b[0mopen\u001b[0m\u001b[1;33m(\u001b[0m\u001b[1;34m'example.txt'\u001b[0m\u001b[1;33m,\u001b[0m \u001b[1;34m'r'\u001b[0m\u001b[1;33m)\u001b[0m \u001b[1;32mas\u001b[0m \u001b[0mfile\u001b[0m\u001b[1;33m:\u001b[0m\u001b[1;33m\u001b[0m\u001b[1;33m\u001b[0m\u001b[0m\n\u001b[0m\u001b[0;32m      2\u001b[0m     \u001b[0mline1\u001b[0m \u001b[1;33m=\u001b[0m \u001b[0mfile\u001b[0m\u001b[1;33m.\u001b[0m\u001b[0mreadline\u001b[0m\u001b[1;33m(\u001b[0m\u001b[1;33m)\u001b[0m  \u001b[1;31m# Read the first line\u001b[0m\u001b[1;33m\u001b[0m\u001b[1;33m\u001b[0m\u001b[0m\n\u001b[0;32m      3\u001b[0m     \u001b[0mline2\u001b[0m \u001b[1;33m=\u001b[0m \u001b[0mfile\u001b[0m\u001b[1;33m.\u001b[0m\u001b[0mreadline\u001b[0m\u001b[1;33m(\u001b[0m\u001b[1;33m)\u001b[0m  \u001b[1;31m# Read the second line\u001b[0m\u001b[1;33m\u001b[0m\u001b[1;33m\u001b[0m\u001b[0m\n\u001b[0;32m      4\u001b[0m \u001b[1;33m\u001b[0m\u001b[0m\n\u001b[0;32m      5\u001b[0m \u001b[1;31m# Print the lines read from the file\u001b[0m\u001b[1;33m\u001b[0m\u001b[1;33m\u001b[0m\u001b[0m\n",
      "\u001b[1;31mFileNotFoundError\u001b[0m: [Errno 2] No such file or directory: 'example.txt'"
     ]
    }
   ],
   "source": [
    "with open('example.txt', 'r') as file:\n",
    "    line1 = file.readline()  # Read the first line\n",
    "    line2 = file.readline()  # Read the second line\n",
    "\n",
    "# Print the lines read from the file\n",
    "print(\"Line 1:\", line1)\n",
    "print(\"Line 2:\", line2)"
   ]
  },
  {
   "cell_type": "code",
   "execution_count": null,
   "id": "e7ab5210",
   "metadata": {},
   "outputs": [],
   "source": [
    "##readlines():\n",
    "\n",
    "The readlines() method is used to read all lines of a file into a list.\n",
    "It reads from the current position of the file pointer until the end of the file and stores each line as an element in a list."
   ]
  },
  {
   "cell_type": "code",
   "execution_count": 12,
   "id": "5daefdd5",
   "metadata": {},
   "outputs": [
    {
     "ename": "FileNotFoundError",
     "evalue": "[Errno 2] No such file or directory: 'example.txt'",
     "output_type": "error",
     "traceback": [
      "\u001b[1;31m---------------------------------------------------------------------------\u001b[0m",
      "\u001b[1;31mFileNotFoundError\u001b[0m                         Traceback (most recent call last)",
      "\u001b[1;32m~\\AppData\\Local\\Temp\\ipykernel_16228\\2705868626.py\u001b[0m in \u001b[0;36m<module>\u001b[1;34m\u001b[0m\n\u001b[1;32m----> 1\u001b[1;33m \u001b[1;32mwith\u001b[0m \u001b[0mopen\u001b[0m\u001b[1;33m(\u001b[0m\u001b[1;34m'example.txt'\u001b[0m\u001b[1;33m,\u001b[0m \u001b[1;34m'r'\u001b[0m\u001b[1;33m)\u001b[0m \u001b[1;32mas\u001b[0m \u001b[0mfile\u001b[0m\u001b[1;33m:\u001b[0m\u001b[1;33m\u001b[0m\u001b[1;33m\u001b[0m\u001b[0m\n\u001b[0m\u001b[0;32m      2\u001b[0m     \u001b[0mlines\u001b[0m \u001b[1;33m=\u001b[0m \u001b[0mfile\u001b[0m\u001b[1;33m.\u001b[0m\u001b[0mreadlines\u001b[0m\u001b[1;33m(\u001b[0m\u001b[1;33m)\u001b[0m\u001b[1;33m\u001b[0m\u001b[1;33m\u001b[0m\u001b[0m\n\u001b[0;32m      3\u001b[0m \u001b[1;33m\u001b[0m\u001b[0m\n\u001b[0;32m      4\u001b[0m \u001b[1;31m# Print each line from the list\u001b[0m\u001b[1;33m\u001b[0m\u001b[1;33m\u001b[0m\u001b[0m\n\u001b[0;32m      5\u001b[0m \u001b[1;32mfor\u001b[0m \u001b[0mline\u001b[0m \u001b[1;32min\u001b[0m \u001b[0mlines\u001b[0m\u001b[1;33m:\u001b[0m\u001b[1;33m\u001b[0m\u001b[1;33m\u001b[0m\u001b[0m\n",
      "\u001b[1;31mFileNotFoundError\u001b[0m: [Errno 2] No such file or directory: 'example.txt'"
     ]
    }
   ],
   "source": [
    "with open('example.txt', 'r') as file:\n",
    "    lines = file.readlines()\n",
    "\n",
    "# Print each line from the list\n",
    "for line in lines:\n",
    "    print(line)"
   ]
  },
  {
   "cell_type": "markdown",
   "id": "c5445878",
   "metadata": {},
   "source": [
    "##Q5. Explain why with statement is used with open(). What is the advantage of using with statement and\n",
    "open() together?"
   ]
  },
  {
   "cell_type": "code",
   "execution_count": null,
   "id": "8c58f77d",
   "metadata": {},
   "outputs": [],
   "source": [
    "Ans-The with statement in Python is used in conjunction with the open() function when working with files to create a context where the file is automatically closed after you're done with it. This combination of with and open() provides several advantages:\n",
    "\n",
    "1.Automatic Resource Management: When you use the with statement, it ensures that the file is properly closed when you exit the indented block of code. This means you don't have to explicitly call file.close()\n",
    "2.Exception Handling: The with statement also handles exceptions more gracefully. If an exception occurs inside the with block, Python will still ensure that the file is properly closed before propagating the exception, reducing the risk of resource leaks and data corruption.    "
   ]
  },
  {
   "cell_type": "markdown",
   "id": "9930b642",
   "metadata": {},
   "source": [
    "##Q6. Explain the write() and writelines() functions. Give a suitable example."
   ]
  },
  {
   "cell_type": "code",
   "execution_count": null,
   "id": "3d2cb4d9",
   "metadata": {},
   "outputs": [],
   "source": [
    "Ans-In Python, the write() and writelines() functions are used for writing data to a file. These functions are commonly used when you want to create or modify the content of a file. Here's an explanation of each function along with Python code examples:"
   ]
  },
  {
   "cell_type": "code",
   "execution_count": null,
   "id": "7da721ab",
   "metadata": {},
   "outputs": [],
   "source": [
    "1.write():\n",
    "\n",
    "The write() function is used to write a string or a sequence of characters to a file.\n",
    "It is typically used for adding content to a file or overwriting existing content.\n",
    "When you use write(), it does not automatically add newline characters ('\\n') to the end of each string. You need to include them explicitly if you want to separate lines."
   ]
  },
  {
   "cell_type": "code",
   "execution_count": 13,
   "id": "ad8cb8e4",
   "metadata": {},
   "outputs": [],
   "source": [
    "# Open a file for writing\n",
    "with open('example.txt', 'w') as file:\n",
    "    file.write('Hello, World!\\n')  # Write a line\n",
    "    file.write('This is a second line.')"
   ]
  },
  {
   "cell_type": "code",
   "execution_count": null,
   "id": "56ea4206",
   "metadata": {},
   "outputs": [],
   "source": [
    "2.writelines():\n",
    "\n",
    "The writelines() function is used to write a list of strings to a file.\n",
    "It writes each string in the list to the file without adding any separators (like newline characters) between them. You need to include any desired separators explicitly."
   ]
  },
  {
   "cell_type": "code",
   "execution_count": 14,
   "id": "a9434bae",
   "metadata": {},
   "outputs": [],
   "source": [
    "# Open a file for writing\n",
    "with open('example.txt', 'w') as file:\n",
    "    lines = ['Line 1\\n', 'Line 2\\n', 'Line 3\\n']\n",
    "    file.writelines(lines)"
   ]
  }
 ],
 "metadata": {
  "kernelspec": {
   "display_name": "Python 3 (ipykernel)",
   "language": "python",
   "name": "python3"
  },
  "language_info": {
   "codemirror_mode": {
    "name": "ipython",
    "version": 3
   },
   "file_extension": ".py",
   "mimetype": "text/x-python",
   "name": "python",
   "nbconvert_exporter": "python",
   "pygments_lexer": "ipython3",
   "version": "3.9.13"
  }
 },
 "nbformat": 4,
 "nbformat_minor": 5
}

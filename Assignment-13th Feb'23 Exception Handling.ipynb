{
 "cells": [
  {
   "cell_type": "markdown",
   "id": "984a5e06",
   "metadata": {},
   "source": [
    "##Q1. Explain why we have to use the Exception class while creating a Custom Exception."
   ]
  },
  {
   "cell_type": "code",
   "execution_count": null,
   "id": "a036ff56",
   "metadata": {},
   "outputs": [],
   "source": [
    "Ans-When creating custom exceptions in a programming language like Python, it's essential to use the Exception class as a base class for your custom exception classes. Here's why:"
   ]
  },
  {
   "cell_type": "code",
   "execution_count": null,
   "id": "4926728c",
   "metadata": {},
   "outputs": [],
   "source": [
    "1.Inheritance from Exception: Exception is a built-in class in most programming languages, including Python, that serves as the base class for all exceptions. When you create a custom exception, you should inherit from this base class to ensure that your custom exception is treated as an exception by the language's exception handling mechanisms.\n",
    "\n",
    "2.Standard Exception Handling: By inheriting from the Exception class, your custom exception class will work seamlessly with the language's exception handling system. This means you can catch and handle your custom exception in a consistent and familiar way using try-except blocks.\n",
    "3.Clear Exception Hierarchy: In many programming languages, including Python, there is a hierarchy of exception classes. The base class, Exception, is at the top of this hierarchy, followed by more specific exception classes like ValueError, FileNotFoundError, and so on. By creating your custom exceptions as subclasses of Exception, you're following this established hierarchy and making it easier for developers to understand where your custom exceptions fit in.\n",
    "\n",
    "4.Consistency and Best Practices: Following established conventions and best practices in your code is essential for maintainability and collaboration. Using Exception as the base class for your custom exceptions aligns your code with standard practices, making it more readable and understandable for other developers.    "
   ]
  },
  {
   "cell_type": "markdown",
   "id": "ff63db97",
   "metadata": {},
   "source": [
    "##Q2. Write a python program to print Python Exception Hierarchy."
   ]
  },
  {
   "cell_type": "code",
   "execution_count": null,
   "id": "7e1680c5",
   "metadata": {},
   "outputs": [],
   "source": [
    "Ans-To print the Python Exception Hierarchy, you can use the inspect module to gather information about the exception classes and their relationships. Here's a Python program that accomplishes this:"
   ]
  },
  {
   "cell_type": "code",
   "execution_count": 1,
   "id": "95ffe19d",
   "metadata": {},
   "outputs": [
    {
     "name": "stdout",
     "output_type": "stream",
     "text": [
      "Python Exception Hierarchy:\n",
      "BaseException\n",
      "  object\n"
     ]
    }
   ],
   "source": [
    "import inspect\n",
    "\n",
    "def print_exception_hierarchy(exception_class, indent=0):\n",
    "    print(\"  \" * indent + exception_class.__name__)\n",
    "    base_classes = inspect.getmro(exception_class)[1:]\n",
    "    for base_class in base_classes:\n",
    "        print_exception_hierarchy(base_class, indent + 1)\n",
    "\n",
    "# Start with the root of the hierarchy, BaseException\n",
    "print(\"Python Exception Hierarchy:\")\n",
    "print_exception_hierarchy(BaseException)"
   ]
  },
  {
   "cell_type": "markdown",
   "id": "15d7e9cf",
   "metadata": {},
   "source": [
    "##Q3-What errors are defined in the ArithmeticError class? Explain any two with an example."
   ]
  },
  {
   "cell_type": "code",
   "execution_count": null,
   "id": "4ebb25f8",
   "metadata": {},
   "outputs": [],
   "source": [
    "Ans-The ArithmeticError class is a base class for various arithmetic-related exceptions in Python. Two commonly used exceptions that are defined within the ArithmeticError class are ZeroDivisionError and OverflowError. Let's explain these two exceptions with examples:"
   ]
  },
  {
   "cell_type": "code",
   "execution_count": null,
   "id": "62fbe22d",
   "metadata": {},
   "outputs": [],
   "source": [
    "1.ZeroDivisionError:\n",
    "\n",
    "Description: This exception is raised when you attempt to divide a number by zero, which is mathematically undefined."
   ]
  },
  {
   "cell_type": "code",
   "execution_count": 2,
   "id": "dc2e808b",
   "metadata": {},
   "outputs": [
    {
     "name": "stdout",
     "output_type": "stream",
     "text": [
      "Error: division by zero\n"
     ]
    }
   ],
   "source": [
    "try:\n",
    "    result = 5 / 0  # Attempting to divide by zero\n",
    "except ZeroDivisionError as e:\n",
    "    print(f\"Error: {e}\")"
   ]
  },
  {
   "cell_type": "code",
   "execution_count": null,
   "id": "54681efa",
   "metadata": {},
   "outputs": [],
   "source": [
    "2.OverflowError:\n",
    "\n",
    "Description: This exception occurs when a numerical operation exceeds the limits of the data type's representational capacity."
   ]
  },
  {
   "cell_type": "code",
   "execution_count": 3,
   "id": "7a48d739",
   "metadata": {},
   "outputs": [],
   "source": [
    "try:\n",
    "    result = 2 ** 1000  # Calculating 2 to the power of 1000\n",
    "except OverflowError as e:\n",
    "    print(f\"Error: {e}\")"
   ]
  },
  {
   "cell_type": "markdown",
   "id": "033e519c",
   "metadata": {},
   "source": [
    "##Q4. Why LookupError class is used? Explain with an example KeyError and IndexError."
   ]
  },
  {
   "cell_type": "code",
   "execution_count": null,
   "id": "b5d55dd5",
   "metadata": {},
   "outputs": [],
   "source": [
    "Ans-The LookupError class is a base class for exceptions that occur when you try to access a sequence or a mapping (like a list, tuple, dictionary, or string) using an invalid index or key. It provides a common base for exceptions that involve lookup operations, making it easier to catch and handle these types of errors in a unified way."
   ]
  },
  {
   "cell_type": "code",
   "execution_count": null,
   "id": "1539aede",
   "metadata": {},
   "outputs": [],
   "source": [
    "1.KeyError:\n",
    "\n",
    "Description: KeyError is raised when you try to access a dictionary with a key that doesn't exist in the dictionary."
   ]
  },
  {
   "cell_type": "code",
   "execution_count": 4,
   "id": "2a20c7b6",
   "metadata": {},
   "outputs": [
    {
     "name": "stdout",
     "output_type": "stream",
     "text": [
      "Error: 'address'\n"
     ]
    }
   ],
   "source": [
    "my_dict = {\"name\": \"Alice\", \"age\": 30}\n",
    "\n",
    "try:\n",
    "    value = my_dict[\"address\"]  # Attempting to access a key that doesn't exist\n",
    "except KeyError as e:\n",
    "    print(f\"Error: {e}\")"
   ]
  },
  {
   "cell_type": "code",
   "execution_count": null,
   "id": "7b1305f0",
   "metadata": {},
   "outputs": [],
   "source": [
    "2.IndexError:\n",
    "\n",
    "Description: IndexError is raised when you try to access a sequence (e.g., a list or tuple) with an invalid index, i.e., an index that is out of the sequence's range."
   ]
  },
  {
   "cell_type": "code",
   "execution_count": 6,
   "id": "b6cae112",
   "metadata": {},
   "outputs": [
    {
     "name": "stdout",
     "output_type": "stream",
     "text": [
      "Error: list index out of range\n"
     ]
    }
   ],
   "source": [
    "my_list = [1, 2, 3]\n",
    "\n",
    "try:\n",
    "    value = my_list[5]  # Attempting to access an index that is out of range\n",
    "except IndexError as e:\n",
    "    print(f\"Error: {e}\")"
   ]
  },
  {
   "cell_type": "markdown",
   "id": "d37165ae",
   "metadata": {},
   "source": [
    "##Q5. Explain ImportError. What is ModuleNotFoundError?"
   ]
  },
  {
   "cell_type": "code",
   "execution_count": null,
   "id": "50d4bbae",
   "metadata": {},
   "outputs": [],
   "source": [
    "Ans-ImportError and ModuleNotFoundError are related exceptions in Python, and they both deal with issues related to importing modules. Let's explain each of them:"
   ]
  },
  {
   "cell_type": "code",
   "execution_count": null,
   "id": "728c4ee4",
   "metadata": {},
   "outputs": [],
   "source": [
    "1.ImportError:\n",
    "\n",
    "Description: ImportError is a base class for exceptions that occur when you have problems importing a module. It can happen for various reasons, such as when the module you are trying to import doesn't exist, there is an issue with the module's code, or there is an issue with the import statement itself."
   ]
  },
  {
   "cell_type": "code",
   "execution_count": null,
   "id": "a979097a",
   "metadata": {},
   "outputs": [],
   "source": [
    "try:\n",
    "    import non_existent_module  # Attempting to import a non-existent module\n",
    "except ImportError as e:\n",
    "    print(f\"Error: {e}\")"
   ]
  },
  {
   "cell_type": "code",
   "execution_count": null,
   "id": "76da3a99",
   "metadata": {},
   "outputs": [],
   "source": [
    "2.ModuleNotFoundError:\n",
    "\n",
    "Description: ModuleNotFoundError is a specific subclass of ImportError. It was introduced in Python 3.6 to provide more detailed and informative error messages when a module cannot be found during import. It includes the name of the missing module in the error message."
   ]
  },
  {
   "cell_type": "code",
   "execution_count": 7,
   "id": "e266fb37",
   "metadata": {},
   "outputs": [
    {
     "name": "stdout",
     "output_type": "stream",
     "text": [
      "Error: No module named 'non_existent_module'\n"
     ]
    }
   ],
   "source": [
    "try:\n",
    "    import non_existent_module  # Attempting to import a non-existent module\n",
    "except ModuleNotFoundError as e:\n",
    "    print(f\"Error: {e}\")"
   ]
  },
  {
   "cell_type": "markdown",
   "id": "3d3d1f67",
   "metadata": {},
   "source": [
    "##Q6. List down some best practices for exception handling in python."
   ]
  },
  {
   "cell_type": "code",
   "execution_count": null,
   "id": "34d85fa2",
   "metadata": {},
   "outputs": [],
   "source": [
    "Ans-\n",
    "1.Use Specific Exception Types: Catch and handle specific exceptions rather than using a generic except clause. This allows you to differentiate between different types of errors and handle them appropriately."
   ]
  },
  {
   "cell_type": "code",
   "execution_count": null,
   "id": "bc1883c7",
   "metadata": {},
   "outputs": [],
   "source": [
    "2.Avoid Catching Exception: Avoid using a bare except clause without specifying the exception type. Catching all exceptions can make debugging challenging and may hide unexpected issues."
   ]
  },
  {
   "cell_type": "code",
   "execution_count": null,
   "id": "a6f321b0",
   "metadata": {},
   "outputs": [],
   "source": [
    "3.Use Multiple Except Blocks: If your code can raise multiple types of exceptions, use multiple except blocks to handle each one separately."
   ]
  },
  {
   "cell_type": "code",
   "execution_count": null,
   "id": "a4b1c041",
   "metadata": {},
   "outputs": [],
   "source": [
    "4.Handle Exceptions Close to the Source: Handle exceptions as close to the source as possible, rather than letting them propagate up the call stack. This helps localize the error and makes debugging easier."
   ]
  },
  {
   "cell_type": "code",
   "execution_count": null,
   "id": "5610279e",
   "metadata": {},
   "outputs": [],
   "source": [
    "5.Test Exception Handling: Include tests for exception handling in your code's unit tests to ensure that your error-handling logic works as expected.\n",
    "\n",
    "6.Avoid Infinite Retry Loops: When handling exceptions related to external resources (e.g., network calls), avoid infinite retry loops that can lead to excessive resource consumption or deadlocks. Implement retries with a maximum limit.\n",
    "\n",
    "7.Keep Error Handling Simple: Avoid overly complex error-handling logic. Strive for simplicity and readability in your code."
   ]
  },
  {
   "cell_type": "code",
   "execution_count": null,
   "id": "274f1d76",
   "metadata": {},
   "outputs": [],
   "source": []
  },
  {
   "cell_type": "code",
   "execution_count": null,
   "id": "edd14adc",
   "metadata": {},
   "outputs": [],
   "source": []
  },
  {
   "cell_type": "code",
   "execution_count": null,
   "id": "638eba25",
   "metadata": {},
   "outputs": [],
   "source": []
  },
  {
   "cell_type": "code",
   "execution_count": null,
   "id": "6b618b5c",
   "metadata": {},
   "outputs": [],
   "source": []
  },
  {
   "cell_type": "code",
   "execution_count": null,
   "id": "27ebcdab",
   "metadata": {},
   "outputs": [],
   "source": []
  }
 ],
 "metadata": {
  "kernelspec": {
   "display_name": "Python 3 (ipykernel)",
   "language": "python",
   "name": "python3"
  },
  "language_info": {
   "codemirror_mode": {
    "name": "ipython",
    "version": 3
   },
   "file_extension": ".py",
   "mimetype": "text/x-python",
   "name": "python",
   "nbconvert_exporter": "python",
   "pygments_lexer": "ipython3",
   "version": "3.9.13"
  }
 },
 "nbformat": 4,
 "nbformat_minor": 5
}

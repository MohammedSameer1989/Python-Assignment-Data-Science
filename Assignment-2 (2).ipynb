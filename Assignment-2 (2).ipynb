{
 "cells": [
  {
   "cell_type": "markdown",
   "id": "c34bcbeb",
   "metadata": {},
   "source": [
    "##Q1. Which keyword is used to create a function? Create a function to return a list of odd numbers in the\n",
    "range of 1 to 25."
   ]
  },
  {
   "cell_type": "code",
   "execution_count": 1,
   "id": "62a33604",
   "metadata": {},
   "outputs": [
    {
     "name": "stdout",
     "output_type": "stream",
     "text": [
      "[1, 3, 5, 7, 9, 11, 13, 15, 17, 19, 21, 23, 25]\n"
     ]
    }
   ],
   "source": [
    "def find_odd_numbers():\n",
    "    odd_numbers = []\n",
    "    for number in range(1, 26):\n",
    "        if number % 2 != 0:\n",
    "            odd_numbers.append(number)\n",
    "    return odd_numbers\n",
    "result = find_odd_numbers()\n",
    "print(result)"
   ]
  },
  {
   "cell_type": "markdown",
   "id": "e84e3b8d",
   "metadata": {},
   "source": [
    "# Q2. Why *args and **kwargs is used in some functions? Create a function each for *args and **kwargs\n",
    "to demonstrate their use."
   ]
  },
  {
   "cell_type": "code",
   "execution_count": null,
   "id": "5be712ad",
   "metadata": {},
   "outputs": [],
   "source": [
    "1.*args (Arbitrary Positional Arguments):\n",
    "It allows you to pass a variable number of non-keyword (positional) arguments to a function.\n",
    "These arguments are collected into a tuple inside the function, allowing you to work with them.\n",
    "Here's an example of a function that uses *args to calculate the sum of arbitrary numbers:"
   ]
  },
  {
   "cell_type": "code",
   "execution_count": 3,
   "id": "137c50c7",
   "metadata": {},
   "outputs": [
    {
     "name": "stdout",
     "output_type": "stream",
     "text": [
      "15\n"
     ]
    }
   ],
   "source": [
    "def sum_numbers(*args):\n",
    "    result = 0\n",
    "    for num in args:\n",
    "        result += num\n",
    "    return result\n",
    "total = sum_numbers(1, 2, 3, 4, 5)\n",
    "print(total)"
   ]
  },
  {
   "cell_type": "code",
   "execution_count": null,
   "id": "c1be3648",
   "metadata": {},
   "outputs": [],
   "source": [
    "**kwargs (Arbitrary Keyword Arguments):\n",
    "It allows you to pass a variable number of keyword arguments (key-value pairs) to a function.\n",
    "These arguments are collected into a dictionary inside the function, enabling you to access them using their keys."
   ]
  },
  {
   "cell_type": "code",
   "execution_count": 4,
   "id": "6898ec10",
   "metadata": {},
   "outputs": [
    {
     "name": "stdout",
     "output_type": "stream",
     "text": [
      "name: John\n",
      "age: 30\n",
      "city: New York\n"
     ]
    }
   ],
   "source": [
    "def person_info(**kwargs):\n",
    "    for key, value in kwargs.items():\n",
    "        print(f\"{key}: {value}\")\n",
    "person_info(name=\"John\", age=30, city=\"New York\")"
   ]
  },
  {
   "cell_type": "markdown",
   "id": "df04afe7",
   "metadata": {},
   "source": [
    "##What is an iterator in python? Name the method used to initialise the iterator object and the method\n",
    "used for iteration. Use these methods to print the first five elements of the given list [2, 4, 6, 8, 10, 12, 14,\n",
    "16, 18, 20]."
   ]
  },
  {
   "cell_type": "code",
   "execution_count": null,
   "id": "18a1ed6e",
   "metadata": {},
   "outputs": [],
   "source": [
    "an iterator is an object that represents a stream of data and is used\n",
    "to iterate over elements one at a time. Iterators provide a way to access elements\n",
    "of a collection or sequence sequentially without exposing the underlying implementation."
   ]
  },
  {
   "cell_type": "code",
   "execution_count": 5,
   "id": "4406656d",
   "metadata": {},
   "outputs": [
    {
     "name": "stdout",
     "output_type": "stream",
     "text": [
      "2\n",
      "4\n",
      "6\n",
      "8\n",
      "10\n"
     ]
    }
   ],
   "source": [
    "my_list = [2, 4, 6, 8, 10, 12, 14, 16, 18, 20]\n",
    "my_iterator = iter(my_list)\n",
    "\n",
    "for i in range(5):\n",
    "    element = next(my_iterator)\n",
    "    print(element)"
   ]
  },
  {
   "cell_type": "markdown",
   "id": "38ddff8f",
   "metadata": {},
   "source": [
    "##What is a generator function in python? Why yield keyword is used? Give an example of a generator\n",
    "function."
   ]
  },
  {
   "cell_type": "code",
   "execution_count": null,
   "id": "3d27ca0d",
   "metadata": {},
   "outputs": [],
   "source": [
    "A generator function in Python is a special type of function that returns an iterator.\n",
    "Unlike regular functions that use return to produce a value and terminate, generator functions use the yield keyword to produce a sequence of values one at a time, and they can be paused and resumed during iteration. This allows you to create iterators in a more memory-efficient way, especially when dealing\n",
    "with large datasets or infinite sequences."
   ]
  },
  {
   "cell_type": "code",
   "execution_count": null,
   "id": "1b2f4aa9",
   "metadata": {},
   "outputs": [],
   "source": [
    "def squares_generator(n):\n",
    "    for i in range(n):\n",
    "        \n",
    "        yield i ** 2\n",
    "for square in squares_generator(5):\n",
    "    print(square)"
   ]
  },
  {
   "cell_type": "markdown",
   "id": "04db677d",
   "metadata": {},
   "source": [
    "##Write a python program to print the first 10 Fibonacci numbers using a while loop."
   ]
  },
  {
   "cell_type": "code",
   "execution_count": 6,
   "id": "9c0c2bca",
   "metadata": {},
   "outputs": [
    {
     "name": "stdout",
     "output_type": "stream",
     "text": [
      "enter your number10\n",
      "0\n",
      "1\n",
      "1\n",
      "2\n",
      "3\n",
      "5\n",
      "8\n",
      "13\n",
      "21\n",
      "34\n"
     ]
    }
   ],
   "source": [
    "number=int(input(\"enter your number\"))\n",
    "a,b=0,1\n",
    "counter=0\n",
    "\n",
    "while counter < number :\n",
    "    print(a)\n",
    "    c=a+b\n",
    "    a=b\n",
    "    b=c\n",
    "    counter= counter +1"
   ]
  },
  {
   "cell_type": "markdown",
   "id": "018f6755",
   "metadata": {},
   "source": [
    "##Write a List Comprehension to iterate through the given string: ‘pwskills’.\n",
    "Expected output: ['p', 'w', 's', 'k', 'i', 'l', 'l', 's']"
   ]
  },
  {
   "cell_type": "code",
   "execution_count": 7,
   "id": "1f40cd2d",
   "metadata": {},
   "outputs": [],
   "source": [
    "l='pwskills'"
   ]
  },
  {
   "cell_type": "code",
   "execution_count": 8,
   "id": "12926d33",
   "metadata": {},
   "outputs": [
    {
     "data": {
      "text/plain": [
       "['p', 'w', 's', 'k', 'i', 'l', 'l', 's']"
      ]
     },
     "execution_count": 8,
     "metadata": {},
     "output_type": "execute_result"
    }
   ],
   "source": [
    "[i for i in l]"
   ]
  },
  {
   "cell_type": "markdown",
   "id": "f974d7db",
   "metadata": {},
   "source": [
    "##Q9. Write a code to print odd numbers from 1 to 100 using list comprehension."
   ]
  },
  {
   "cell_type": "code",
   "execution_count": 9,
   "id": "dba31616",
   "metadata": {},
   "outputs": [],
   "source": [
    "a=list(range(0,101))"
   ]
  },
  {
   "cell_type": "code",
   "execution_count": 10,
   "id": "ddc922c4",
   "metadata": {},
   "outputs": [
    {
     "data": {
      "text/plain": [
       "[1,\n",
       " 3,\n",
       " 5,\n",
       " 7,\n",
       " 9,\n",
       " 11,\n",
       " 13,\n",
       " 15,\n",
       " 17,\n",
       " 19,\n",
       " 21,\n",
       " 23,\n",
       " 25,\n",
       " 27,\n",
       " 29,\n",
       " 31,\n",
       " 33,\n",
       " 35,\n",
       " 37,\n",
       " 39,\n",
       " 41,\n",
       " 43,\n",
       " 45,\n",
       " 47,\n",
       " 49,\n",
       " 51,\n",
       " 53,\n",
       " 55,\n",
       " 57,\n",
       " 59,\n",
       " 61,\n",
       " 63,\n",
       " 65,\n",
       " 67,\n",
       " 69,\n",
       " 71,\n",
       " 73,\n",
       " 75,\n",
       " 77,\n",
       " 79,\n",
       " 81,\n",
       " 83,\n",
       " 85,\n",
       " 87,\n",
       " 89,\n",
       " 91,\n",
       " 93,\n",
       " 95,\n",
       " 97,\n",
       " 99]"
      ]
     },
     "execution_count": 10,
     "metadata": {},
     "output_type": "execute_result"
    }
   ],
   "source": [
    "[i for i in a if i % 2 != 0]"
   ]
  }
 ],
 "metadata": {
  "kernelspec": {
   "display_name": "Python 3 (ipykernel)",
   "language": "python",
   "name": "python3"
  },
  "language_info": {
   "codemirror_mode": {
    "name": "ipython",
    "version": 3
   },
   "file_extension": ".py",
   "mimetype": "text/x-python",
   "name": "python",
   "nbconvert_exporter": "python",
   "pygments_lexer": "ipython3",
   "version": "3.9.13"
  }
 },
 "nbformat": 4,
 "nbformat_minor": 5
}

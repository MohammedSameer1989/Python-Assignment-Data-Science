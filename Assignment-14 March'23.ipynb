{
 "cells": [
  {
   "cell_type": "markdown",
   "id": "2a57aa85-3250-498b-9c0c-f786283787e9",
   "metadata": {},
   "source": [
    "Q1. Write a Python function that takes in two arrays of data and calculates the F-value for a variance ratio\n",
    "test. The function should return the F-value and the corresponding p-value for the test."
   ]
  },
  {
   "cell_type": "code",
   "execution_count": 1,
   "id": "1bbffe57-7c14-41c4-9151-5cc039b7554d",
   "metadata": {},
   "outputs": [],
   "source": [
    "import scipy.stats as stats\n",
    "\n",
    "def calculate_f_value(data1, data2):\n",
    "    # Calculate the variances of the two data arrays\n",
    "    var1 = np.var(data1, ddof=1)  # ddof=1 for sample variance\n",
    "    var2 = np.var(data2, ddof=1)\n",
    "\n",
    "    # Calculate the F-value\n",
    "    f_value = var1 / var2\n",
    "\n",
    "    # Calculate degrees of freedom\n",
    "    df1 = len(data1) - 1\n",
    "    df2 = len(data2) - 1\n",
    "\n",
    "    # Calculate the p-value\n",
    "    p_value = 1 - stats.f.cdf(f_value, df1, df2)\n",
    "\n",
    "    return f_value, p_value"
   ]
  },
  {
   "cell_type": "code",
   "execution_count": null,
   "id": "a3d2f2d2-2b9d-4dd2-84bc-2315bb82f7a8",
   "metadata": {},
   "outputs": [],
   "source": [
    "data1 = [25, 30, 35, 40, 45]\n",
    "data2 = [15, 20, 25, 30, 35]\n",
    "f_value, p_value = calculate_f_value(data1, data2)\n",
    "print(\"F-value:\", f_value)\n",
    "print(\"p-value:\", p_value)"
   ]
  },
  {
   "cell_type": "markdown",
   "id": "6a11ca18-f3bc-47d7-943d-5a616a850938",
   "metadata": {},
   "source": [
    "Q2. Given a significance level of 0.05 and the degrees of freedom for the numerator and denominator of an\n",
    "F-distribution, write a Python function that returns the critical F-value for a two-tailed test."
   ]
  },
  {
   "cell_type": "code",
   "execution_count": 3,
   "id": "0320bde9-fca1-4ae4-9ec1-c27461495510",
   "metadata": {},
   "outputs": [],
   "source": [
    "import scipy.stats as stats\n",
    "\n",
    "def get_critical_f_value(significance_level, df1, df2):\n",
    "    alpha = 1 - significance_level / 2  # Two-tailed test\n",
    "\n",
    "    # Use the ppf (percent point function) method of the F-distribution\n",
    "    critical_f_value = stats.f.ppf(alpha, df1, df2)\n",
    "\n",
    "    return critical_f_value"
   ]
  },
  {
   "cell_type": "code",
   "execution_count": 4,
   "id": "ad6cf83a-daca-4934-9048-9da1cbad624a",
   "metadata": {},
   "outputs": [
    {
     "name": "stdout",
     "output_type": "stream",
     "text": [
      "Critical F-value: 4.236085668188633\n"
     ]
    }
   ],
   "source": [
    "significance_level = 0.05\n",
    "df1 = 5  # Degrees of freedom for the numerator\n",
    "df2 = 10  # Degrees of freedom for the denominator\n",
    "\n",
    "critical_f_value = get_critical_f_value(significance_level, df1, df2)\n",
    "print(\"Critical F-value:\", critical_f_value)"
   ]
  },
  {
   "cell_type": "markdown",
   "id": "e7759143-fbe6-4f2a-8b99-11c6c98beea8",
   "metadata": {},
   "source": [
    "Q3. Write a Python program that generates random samples from two normal distributions with known\n",
    "variances and uses an F-test to determine if the variances are equal. The program should output the Fvalue, degrees of freedom, and p-value for the test."
   ]
  },
  {
   "cell_type": "code",
   "execution_count": 5,
   "id": "6b6357ef-9bde-45d2-85d6-63592135b3a8",
   "metadata": {},
   "outputs": [
    {
     "name": "stdout",
     "output_type": "stream",
     "text": [
      "F-value: 0.4033172556599336\n",
      "Degrees of freedom (numerator): 29\n",
      "Degrees of freedom (denominator): 29\n",
      "p-value: 0.9914489371012936\n",
      "The variances are equal (fail to reject the null hypothesis).\n"
     ]
    }
   ],
   "source": [
    "import numpy as np\n",
    "import scipy.stats as stats\n",
    "\n",
    "# Set the parameters for the normal distributions\n",
    "mean1 = 0\n",
    "variance1 = 4  # Known variance for the first distribution\n",
    "mean2 = 0\n",
    "variance2 = 9  # Known variance for the second distribution\n",
    "\n",
    "# Generate random samples from the two normal distributions\n",
    "sample_size1 = 30\n",
    "sample_size2 = 30\n",
    "data1 = np.random.normal(mean1, np.sqrt(variance1), sample_size1)\n",
    "data2 = np.random.normal(mean2, np.sqrt(variance2), sample_size2)\n",
    "\n",
    "# Perform the F-test\n",
    "f_value = np.var(data1, ddof=1) / np.var(data2, ddof=1)  # F-statistic\n",
    "df1 = sample_size1 - 1  # Degrees of freedom for the numerator\n",
    "df2 = sample_size2 - 1  # Degrees of freedom for the denominator\n",
    "p_value = 1 - stats.f.cdf(f_value, df1, df2)\n",
    "\n",
    "# Output the results\n",
    "print(\"F-value:\", f_value)\n",
    "print(\"Degrees of freedom (numerator):\", df1)\n",
    "print(\"Degrees of freedom (denominator):\", df2)\n",
    "print(\"p-value:\", p_value)\n",
    "\n",
    "# Check if variances are equal at a 0.05 significance level\n",
    "significance_level = 0.05\n",
    "if p_value < significance_level:\n",
    "    print(\"The variances are not equal (reject the null hypothesis).\")\n",
    "else:\n",
    "    print(\"The variances are equal (fail to reject the null hypothesis).\")"
   ]
  },
  {
   "cell_type": "markdown",
   "id": "5f797c14-e007-436e-a27f-19b326d42422",
   "metadata": {},
   "source": [
    "Q4.The variances of two populations are known to be 10 and 15. A sample of 12 observations is taken from\n",
    "each population. Conduct an F-test at the 5% significance level to determine if the variances are\n",
    "significantly different."
   ]
  },
  {
   "cell_type": "code",
   "execution_count": null,
   "id": "5ea57598-1e84-4857-a3c1-0b5d007c1ec7",
   "metadata": {},
   "outputs": [],
   "source": [
    "To conduct an F-test to determine if the variances of two populations are significantly different, you can follow these steps:\n",
    "\n",
    "Define your null and alternative hypotheses:\n",
    "\n",
    "Null Hypothesis (H0): The variances are equal (σ1^2 = σ2^2).\n",
    "Alternative Hypothesis (H1): The variances are not equal (σ1^2 ≠ σ2^2).\n",
    "Choose a significance level (α). In this case, α is 0.05, as you mentioned a 5% significance level.\n",
    "\n",
    "Calculate the F-statistic:\n",
    "\n",
    "The F-statistic is calculated as the ratio of the larger sample variance to the smaller sample variance.\n",
    "\n",
    "F = Larger Sample Variance / Smaller Sample Variance\n",
    "\n",
    "Determine the degrees of freedom for the two populations:\n",
    "\n",
    "Degrees of Freedom (df1) for Population 1 = Sample Size - 1\n",
    "Degrees of Freedom (df2) for Population 2 = Sample Size - 1\n",
    "In this case, the sample size is 12, so df1 = df2 = 11.\n",
    "\n",
    "Use the F-distribution table or a statistical calculator to find the critical F-value for a 5% significance level with df1 and df2 degrees of freedom.\n",
    "\n",
    "Compare the calculated F-statistic to the critical F-value:\n",
    "\n",
    "If the calculated F-statistic is greater than the critical F-value, reject the null hypothesis.\n",
    "If the calculated F-statistic is less than or equal to the critical F-value, fail to reject the null hypothesis.\n",
    "Here's the Python code to perform this F-test:\n",
    "\n",
    "python\n",
    "Copy code\n",
    "import scipy.stats as stats\n",
    "\n",
    "# Given data\n",
    "variance1 = 10\n",
    "variance2 = 15\n",
    "sample_size = 12\n",
    "significance_level = 0.05\n",
    "\n",
    "# Calculate the F-statistic\n",
    "F_statistic = max(variance1, variance2) / min(variance1, variance2)\n",
    "\n",
    "# Degrees of freedom\n",
    "df1 = sample_size - 1\n",
    "df2 = sample_size - 1\n",
    "\n",
    "# Calculate the critical F-value\n",
    "critical_F_value = stats.f.ppf(1 - significance_level / 2, df1, df2)\n",
    "\n",
    "# Perform the F-test\n",
    "if F_statistic > critical_F_value:\n",
    "    print(\"Reject the null hypothesis. The variances are significantly different.\")\n",
    "else:\n",
    "    print(\"Fail to reject the null hypothesis. The variances are not significantly different.\")\n",
    "This code will help you determine whether the variances of the two populations are significantly different at a 5% significance level.\n",
    "\n",
    "\n",
    "\n",
    "\n",
    "Is this conversation helpful so far"
   ]
  },
  {
   "cell_type": "markdown",
   "id": "f64b704d-4e80-4f5f-8503-b803363a0080",
   "metadata": {},
   "source": [
    "Q5. A manufacturer claims that the variance of the diameter of a certain product is 0.005. A sample of 25\n",
    "products is taken, and the sample variance is found to be 0.006. Conduct an F-test at the 1% significance\n",
    "level to determine if the claim is justified."
   ]
  },
  {
   "cell_type": "code",
   "execution_count": null,
   "id": "18e4ef57-937c-400c-a609-3dd978faedb7",
   "metadata": {},
   "outputs": [],
   "source": [
    "To conduct an F-test to determine if the manufacturer's claim about the variance of the product's diameter is justified, you can follow these steps:\n",
    "\n",
    "Define your null and alternative hypotheses:\n",
    "\n",
    "Null Hypothesis (H0): The population variance is equal to the claimed variance (σ^2 = 0.005).\n",
    "Alternative Hypothesis (H1): The population variance is not equal to the claimed variance (σ^2 ≠ 0.005).\n",
    "Choose a significance level (α). In this case, α is 0.01, as you mentioned a 1% significance level.\n",
    "\n",
    "Calculate the F-statistic:\n",
    "\n",
    "The F-statistic is calculated as the ratio of the sample variance to the claimed population variance.\n",
    "\n",
    "F = Sample Variance / Claimed Variance\n",
    "\n",
    "Determine the degrees of freedom for the numerator and denominator:\n",
    "\n",
    "Degrees of Freedom (df1) for the numerator = Sample Size - 1\n",
    "Degrees of Freedom (df2) for the denominator = Sample Size - 1\n",
    "In this case, the sample size is 25, so df1 = df2 = 24.\n",
    "\n",
    "Use the F-distribution table or a statistical calculator to find the critical F-value for a 1% significance level with df1 and df2 degrees of freedom.\n",
    "\n",
    "Compare the calculated F-statistic to the critical F-value:\n",
    "\n",
    "If the calculated F-statistic falls within the critical F-value range, fail to reject the null hypothesis, and the claim is justified.\n",
    "If the calculated F-statistic falls outside the critical F-value range, reject the null hypothesis, and the claim is not justified.\n",
    "Here's the Python code to perform this F-test:"
   ]
  },
  {
   "cell_type": "code",
   "execution_count": 6,
   "id": "24aee42f-a95b-4f43-b443-2c8d44315e80",
   "metadata": {},
   "outputs": [
    {
     "name": "stdout",
     "output_type": "stream",
     "text": [
      "Fail to reject the null hypothesis. The claim is justified.\n"
     ]
    }
   ],
   "source": [
    "import scipy.stats as stats\n",
    "\n",
    "# Given data\n",
    "claimed_variance = 0.005\n",
    "sample_variance = 0.006\n",
    "sample_size = 25\n",
    "significance_level = 0.01\n",
    "\n",
    "# Calculate the F-statistic\n",
    "F_statistic = sample_variance / claimed_variance\n",
    "\n",
    "# Degrees of freedom\n",
    "df1 = sample_size - 1\n",
    "df2 = sample_size - 1\n",
    "\n",
    "# Calculate the critical F-values\n",
    "critical_F_lower = stats.f.ppf(significance_level / 2, df1, df2)\n",
    "critical_F_upper = stats.f.ppf(1 - significance_level / 2, df1, df2)\n",
    "\n",
    "# Perform the F-test\n",
    "if F_statistic > critical_F_upper or F_statistic < critical_F_lower:\n",
    "    print(\"Reject the null hypothesis. The claim is not justified.\")\n",
    "else:\n",
    "    print(\"Fail to reject the null hypothesis. The claim is justified.\")"
   ]
  },
  {
   "cell_type": "markdown",
   "id": "a5a9d6e7-c886-420a-b57d-6de8c83e76d5",
   "metadata": {},
   "source": [
    "Q6. Write a Python function that takes in the degrees of freedom for the numerator and denominator of an\n",
    "F-distribution and calculates the mean and variance of the distribution. The function should return the\n",
    "mean and variance as a tuple."
   ]
  },
  {
   "cell_type": "code",
   "execution_count": 7,
   "id": "ca5cccb2-04d9-4946-8d18-65b089b6549d",
   "metadata": {},
   "outputs": [
    {
     "name": "stdout",
     "output_type": "stream",
     "text": [
      "Mean: 1.25\n",
      "Variance: 1.3541666666666667\n"
     ]
    }
   ],
   "source": [
    "def calculate_f_distribution_mean_and_variance(df1, df2):\n",
    "    # Calculate the mean of the F-distribution\n",
    "    mean = df2 / (df2 - 2)\n",
    "\n",
    "    # Calculate the variance of the F-distribution\n",
    "    if df2 > 4:\n",
    "        variance = (2 * (df2 ** 2 * (df1 + df2 - 2))) / (df1 * (df2 - 2) ** 2 * (df2 - 4))\n",
    "    else:\n",
    "        variance = None  # Variance is undefined for df2 <= 4\n",
    "\n",
    "    return mean, variance\n",
    "\n",
    "# Example usage:\n",
    "df1 = 5  # Degrees of freedom for the numerator\n",
    "df2 = 10  # Degrees of freedom for the denominator\n",
    "mean, variance = calculate_f_distribution_mean_and_variance(df1, df2)\n",
    "print(\"Mean:\", mean)\n",
    "print(\"Variance:\", variance)\n"
   ]
  },
  {
   "cell_type": "markdown",
   "id": "f19ba832-dad3-4afe-a537-b4fc70f96d2a",
   "metadata": {},
   "source": [
    "Q7. A random sample of 10 measurements is taken from a normal population with unknown variance. The\n",
    "sample variance is found to be 25. Another random sample of 15 measurements is taken from another\n",
    "normal population with unknown variance, and the sample variance is found to be 20. Conduct an F-test\n",
    "at the 10% significance level to determine if the variances are significantly different."
   ]
  },
  {
   "cell_type": "code",
   "execution_count": 8,
   "id": "bd4fde57-c8e8-4c15-b987-51ecaa3f956d",
   "metadata": {},
   "outputs": [
    {
     "name": "stdout",
     "output_type": "stream",
     "text": [
      "Fail to reject the null hypothesis. The variances are not significantly different.\n"
     ]
    }
   ],
   "source": [
    "import scipy.stats as stats\n",
    "\n",
    "# Given data\n",
    "sample_variance1 = 25\n",
    "sample_variance2 = 20\n",
    "sample_size1 = 10\n",
    "sample_size2 = 15\n",
    "significance_level = 0.10\n",
    "\n",
    "# Calculate the F-statistic\n",
    "F_statistic = max(sample_variance1, sample_variance2) / min(sample_variance1, sample_variance2)\n",
    "\n",
    "# Degrees of freedom\n",
    "df1 = sample_size1 - 1\n",
    "df2 = sample_size2 - 1\n",
    "\n",
    "# Calculate the critical F-values\n",
    "critical_F_lower = stats.f.ppf(significance_level / 2, df1, df2)\n",
    "critical_F_upper = stats.f.ppf(1 - significance_level / 2, df1, df2)\n",
    "\n",
    "# Perform the F-test\n",
    "if F_statistic > critical_F_upper or F_statistic < critical_F_lower:\n",
    "    print(\"Reject the null hypothesis. The variances are significantly different.\")\n",
    "else:\n",
    "    print(\"Fail to reject the null hypothesis. The variances are not significantly different.\")"
   ]
  },
  {
   "cell_type": "markdown",
   "id": "dac42e18-b958-4b30-ba2c-4d0f4e93b9a2",
   "metadata": {},
   "source": [
    "Q8. The following data represent the waiting times in minutes at two different restaurants on a Saturday\n",
    "night: Restaurant A: 24, 25, 28, 23, 22, 20, 27; Restaurant B: 31, 33, 35, 30, 32, 36. Conduct an F-test at the 5%\n",
    "significance level to determine if the variances are significantly different."
   ]
  },
  {
   "cell_type": "code",
   "execution_count": null,
   "id": "d97fc3a4-fcac-4a5c-801c-35eba65214ef",
   "metadata": {},
   "outputs": [],
   "source": [
    "o conduct an F-test to determine if the variances of the waiting times at Restaurant A and Restaurant B are significantly different, you can follow these steps:\n",
    "\n",
    "Define your null and alternative hypotheses:\n",
    "\n",
    "Null Hypothesis (H0): The variances of the waiting times at both restaurants are equal (σ1^2 = σ2^2).\n",
    "Alternative Hypothesis (H1): The variances of the waiting times at the two restaurants are not equal (σ1^2 ≠ σ2^2).\n",
    "Choose a significance level (α). In this case, α is 0.05, as you mentioned a 5% significance level.\n",
    "\n",
    "Calculate the F-statistic:\n",
    "\n",
    "The F-statistic is calculated as the ratio of the sample variance of Restaurant A to the sample variance of Restaurant B.\n",
    "\n",
    "F = Sample Variance of Restaurant A / Sample Variance of Restaurant B\n",
    "\n",
    "Determine the degrees of freedom for the two samples:\n",
    "\n",
    "Degrees of Freedom (df1) for Restaurant A = Sample Size of Restaurant A - 1\n",
    "Degrees of Freedom (df2) for Restaurant B = Sample Size of Restaurant B - 1\n",
    "In this case, Sample Size of Restaurant A = 7, and Sample Size of Restaurant B = 6, so df1 = 6 and df2 = 5.\n",
    "\n",
    "Use the F-distribution table or a statistical calculator to find the critical F-value for a 5% significance level with df1 and df2 degrees of freedom.\n",
    "\n",
    "Compare the calculated F-statistic to the critical F-value:\n",
    "\n",
    "If the calculated F-statistic falls within the critical F-value range, fail to reject the null hypothesis, and the variances are not significantly different.\n",
    "If the calculated F-statistic falls outside the critical F-value range, reject the null hypothesis, and the variances are significantly different.\n",
    "Here's the Python code to perform this F-test:"
   ]
  },
  {
   "cell_type": "code",
   "execution_count": 9,
   "id": "4d621112-e6b3-4331-9477-61333dc84651",
   "metadata": {},
   "outputs": [
    {
     "name": "stdout",
     "output_type": "stream",
     "text": [
      "Fail to reject the null hypothesis. The variances are not significantly different.\n"
     ]
    }
   ],
   "source": [
    "import scipy.stats as stats\n",
    "\n",
    "# Data\n",
    "restaurant_A_wait_times = [24, 25, 28, 23, 22, 20, 27]\n",
    "restaurant_B_wait_times = [31, 33, 35, 30, 32, 36]\n",
    "\n",
    "# Calculate the sample variances\n",
    "variance_A = sum((x - sum(restaurant_A_wait_times) / len(restaurant_A_wait_times))**2 for x in restaurant_A_wait_times) / (len(restaurant_A_wait_times) - 1)\n",
    "variance_B = sum((x - sum(restaurant_B_wait_times) / len(restaurant_B_wait_times))**2 for x in restaurant_B_wait_times) / (len(restaurant_B_wait_times) - 1)\n",
    "\n",
    "# Calculate the F-statistic\n",
    "F_statistic = variance_A / variance_B\n",
    "\n",
    "# Degrees of freedom\n",
    "df1 = len(restaurant_A_wait_times) - 1\n",
    "df2 = len(restaurant_B_wait_times) - 1\n",
    "\n",
    "# Calculate the critical F-values\n",
    "critical_F_lower = stats.f.ppf(0.025, df1, df2)  # 0.025 for the lower tail\n",
    "critical_F_upper = stats.f.ppf(1 - 0.025, df1, df2)  # 1 - 0.025 for the upper tail\n",
    "\n",
    "# Perform the F-test\n",
    "if F_statistic > critical_F_upper or F_statistic < critical_F_lower:\n",
    "    print(\"Reject the null hypothesis. The variances are significantly different.\")\n",
    "else:\n",
    "    print(\"Fail to reject the null hypothesis. The variances are not significantly different.\")\n"
   ]
  },
  {
   "cell_type": "markdown",
   "id": "2b5e85e6-de92-4a75-bc28-cc60ce70cdcf",
   "metadata": {},
   "source": [
    "Q9. The following data represent the test scores of two groups of students: Group A: 80, 85, 90, 92, 87, 83;\n",
    "Group B: 75, 78, 82, 79, 81, 84. Conduct an F-test at the 1% significance level to determine if the variances\n",
    "are significantly different."
   ]
  },
  {
   "cell_type": "code",
   "execution_count": null,
   "id": "0b73165a-de8a-4210-8167-7aed25e70d2b",
   "metadata": {},
   "outputs": [],
   "source": []
  }
 ],
 "metadata": {
  "kernelspec": {
   "display_name": "Python 3 (ipykernel)",
   "language": "python",
   "name": "python3"
  },
  "language_info": {
   "codemirror_mode": {
    "name": "ipython",
    "version": 3
   },
   "file_extension": ".py",
   "mimetype": "text/x-python",
   "name": "python",
   "nbconvert_exporter": "python",
   "pygments_lexer": "ipython3",
   "version": "3.10.8"
  }
 },
 "nbformat": 4,
 "nbformat_minor": 5
}

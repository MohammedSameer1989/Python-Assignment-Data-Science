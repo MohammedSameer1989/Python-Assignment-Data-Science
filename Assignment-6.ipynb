{
 "cells": [
  {
   "cell_type": "markdown",
   "id": "83ae75c5",
   "metadata": {},
   "source": [
    "##Q1 Create a function which will take a list as an argument and return the product of all the numbers\n",
    "after creating a flat list.\n",
    "Use the below-given list as an argument for your function.\n",
    "list1 = [1,2,3,4, [44,55,66, True], False, (34,56,78,89,34), {1,2,3,3,2,1}, {1:34, \"key2\": [55, 67, 78, 89], 4: (45,\n",
    "22, 61, 34)}, [56, 'data science'], 'Machine Learning']\n",
    "Note: you must extract numeric keys and values of the dictionary also."
   ]
  },
  {
   "cell_type": "code",
   "execution_count": null,
   "id": "69a85da7",
   "metadata": {},
   "outputs": [],
   "source": [
    "def flatten_and_multiply(lst):\n",
    "    # Initialize an empty list to store all numeric values\n",
    "    numeric_values = []\n",
    "\n",
    "    # Helper function to recursively flatten the list\n",
    "    def flatten_recursive(item):\n",
    "        if isinstance(item, (int, float)):\n",
    "            numeric_values.append(item)\n",
    "        elif isinstance(item, list):\n",
    "            for subitem in item:\n",
    "                flatten_recursive(subitem)\n",
    "        elif isinstance(item, dict):\n",
    "            for key, value in item.items():\n",
    "                flatten_recursive(key)\n",
    "                flatten_recursive(value)\n",
    "\n",
    "    # Flatten the input list and extract numeric values\n",
    "    for element in lst:\n",
    "        flatten_recursive(element)\n",
    "\n",
    "    # Calculate the product of all numeric values\n",
    "    product = 1\n",
    "    for num in numeric_values:\n",
    "        product *= num\n",
    "\n",
    "    return product\n",
    "\n",
    "# Test the function with the given list\n",
    "list1 = [1, 2, 3, 4, [44, 55, 66, True], False, (34, 56, 78, 89, 34), {1, 2, 3, 3, 2, 1}, {1: 34, \"key2\": [55, 67, 78, 89], 4: (45, 22, 61, 34)}, [56, 'data science'], 'Machine Learning']\n",
    "result = flatten_and_multiply(list1)\n",
    "print(\"Product of all numeric values in the list:\", result)"
   ]
  },
  {
   "cell_type": "markdown",
   "id": "2167ed45",
   "metadata": {},
   "source": [
    "##Q2. Write a python program for encrypting a message sent to you by your friend. The logic of encryption\n",
    "should be such that, for a the output should be z. For b, the output should be y. For c, the output should\n",
    "be x respectively. Also, the whitespace should be replaced with a dollar sign. Keep the punctuation\n",
    "marks unchanged.\n",
    "Input Sentence: I want to become a Data Scientist.\n",
    "Encrypt the above input sentence using the program you just created.\n",
    "Note: Convert the given input sentence into lowercase before encrypting. The final output should be\n",
    "lowercase."
   ]
  },
  {
   "cell_type": "code",
   "execution_count": 3,
   "id": "2febc7e3",
   "metadata": {},
   "outputs": [
    {
     "name": "stdout",
     "output_type": "stream",
     "text": [
      "Encrypted Sentence: r dzmg gl yvxlnv z wzgz hxrvmgrhg.\n"
     ]
    }
   ],
   "source": [
    "def encrypt_message(message):\n",
    "    # Define a mapping from characters to their encrypted counterparts\n",
    "    char_map = {\n",
    "        'a': 'z', 'b': 'y', 'c': 'x', 'd': 'w', 'e': 'v', 'f': 'u', 'g': 't', 'h': 's',\n",
    "        'i': 'r', 'j': 'q', 'k': 'p', 'l': 'o', 'm': 'n', 'n': 'm', 'o': 'l', 'p': 'k',\n",
    "        'q': 'j', 'r': 'i', 's': 'h', 't': 'g', 'u': 'f', 'v': 'e', 'w': 'd', 'x': 'c',\n",
    "        'y': 'b', 'z': 'a', ' ': '$'  # Replace whitespace with a dollar sign\n",
    "    }\n",
    "\n",
    "    # Convert the message to lowercase\n",
    "    message = message.lower()\n",
    "\n",
    "    # Initialize an empty encrypted message\n",
    "    encrypted_message = \"\"\n",
    "\n",
    "    # Encrypt each character in the message, keeping punctuation marks unchanged\n",
    "    for char in message:\n",
    "        if char.isalpha():\n",
    "            encrypted_message += char_map[char]\n",
    "        else:\n",
    "            encrypted_message += char  # Keep punctuation marks unchanged\n",
    "\n",
    "    return encrypted_message\n",
    "\n",
    "# Input sentence\n",
    "input_sentence = \"I want to become a Data Scientist.\"\n",
    "\n",
    "# Encrypt the input sentence\n",
    "encrypted_sentence = encrypt_message(input_sentence)\n",
    "\n",
    "# Print the encrypted sentence\n",
    "print(\"Encrypted Sentence:\", encrypted_sentence)"
   ]
  },
  {
   "cell_type": "code",
   "execution_count": null,
   "id": "340cd4e8",
   "metadata": {},
   "outputs": [],
   "source": []
  },
  {
   "cell_type": "code",
   "execution_count": null,
   "id": "2eacd88d",
   "metadata": {},
   "outputs": [],
   "source": []
  }
 ],
 "metadata": {
  "kernelspec": {
   "display_name": "Python 3 (ipykernel)",
   "language": "python",
   "name": "python3"
  },
  "language_info": {
   "codemirror_mode": {
    "name": "ipython",
    "version": 3
   },
   "file_extension": ".py",
   "mimetype": "text/x-python",
   "name": "python",
   "nbconvert_exporter": "python",
   "pygments_lexer": "ipython3",
   "version": "3.9.13"
  }
 },
 "nbformat": 4,
 "nbformat_minor": 5
}

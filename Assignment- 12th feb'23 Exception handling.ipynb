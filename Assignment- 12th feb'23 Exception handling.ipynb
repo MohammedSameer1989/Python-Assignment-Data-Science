{
 "cells": [
  {
   "cell_type": "markdown",
   "id": "5a29d8b3",
   "metadata": {},
   "source": [
    "##Q1. What is an exception in python?write the differnce between exceptions and syntax errors"
   ]
  },
  {
   "cell_type": "code",
   "execution_count": null,
   "id": "b31afc48",
   "metadata": {},
   "outputs": [],
   "source": [
    "Ans-In Python, an exception is an event that occurs during the execution of a program and disrupts the normal flow of the program. When an exceptional condition is encountered, Python generates an exception object that represents the error. This exception can then be caught and handled by the program, allowing it to respond to errors gracefully rather than crashing\n",
    "1.Exception Types: Exceptions in Python come in various types, each representing a specific error or exceptional condition. Common exception types include TypeError, ValueError, FileNotFoundError, ZeroDivisionError, and IndexError, among others.\n",
    "2.Exception Handling: To handle exceptions, you use try and except blocks. Code that might raise an exception is placed inside the try block, and if an exception occurs, the program jumps to the corresponding except block to handle the exception.\n",
    "3.Exception Hierarchy: Exceptions in Python are organized into a hierarchy, with the base class BaseException at the top. More specific exceptions inherit from this base class, allowing you to catch different types of exceptions based on your needs.    "
   ]
  },
  {
   "cell_type": "code",
   "execution_count": null,
   "id": "2298af34",
   "metadata": {},
   "outputs": [],
   "source": [
    "##Syntax Errors:\n",
    "1.Definition: Syntax errors, also known as parsing errors, occur when the Python interpreter encounters invalid Python code that doesn't conform to the language's syntax rules. These errors occur during the parsing (compilation) phase before the program runs.\n",
    "\n",
    "2.Example: Common syntax errors include missing colons at the end of statements, mismatched parentheses, indentation errors, and using undefined variables.\n",
    "\n",
    "3.Handling: Syntax errors must be fixed before you can run the program. The interpreter won't execute any code with syntax errors"
   ]
  },
  {
   "cell_type": "code",
   "execution_count": null,
   "id": "6a5c177a",
   "metadata": {},
   "outputs": [],
   "source": [
    "##Exceptions\n",
    "1.Definition: Exceptions are runtime errors that occur during the execution of a Python program when it encounters unexpected conditions or events that disrupt the normal program flow.\n",
    "\n",
    "2.Example: Examples of exceptions include division by zero, attempting to access an index that doesn't exist in a list, or trying to open a file that doesn't exist.\n",
    "\n",
    "3.Handling: Exceptions can be caught and handled using try and except blocks, allowing the program to respond to errors gracefully without crashing."
   ]
  },
  {
   "cell_type": "markdown",
   "id": "b10d7bfb",
   "metadata": {},
   "source": [
    "##Q2 What Happens when as exception is not handled? handled with an example?"
   ]
  },
  {
   "cell_type": "code",
   "execution_count": null,
   "id": "ddc8377e",
   "metadata": {},
   "outputs": [],
   "source": [
    "Ans-When an exception is not handled in a Python program, it propagates up the call stack until it reaches the top level of the program or until it is caught and handled by an appropriate try and except block. If the exception is not caught at any level, the program terminates, and an error message is displayed, indicating the type of exception that occurred.\n",
    "Here's an example to illustrate what happens when an exception is not handled:\n",
    "\n",
    "\n",
    "\n"
   ]
  },
  {
   "cell_type": "code",
   "execution_count": 3,
   "id": "09ca0da1",
   "metadata": {},
   "outputs": [
    {
     "ename": "SyntaxError",
     "evalue": "invalid syntax (2441893504.py, line 9)",
     "output_type": "error",
     "traceback": [
      "\u001b[1;36m  File \u001b[1;32m\"C:\\Users\\samee\\AppData\\Local\\Temp\\ipykernel_11440\\2441893504.py\"\u001b[1;36m, line \u001b[1;32m9\u001b[0m\n\u001b[1;33m    When this code is executed, it will raise a ZeroDivisionError because division by zero is not allowed in Python. Since we haven't included any exception handling code (i.e., no try and except blocks) to catch this exception, it will propagate up the call stack to the top level of the program.\u001b[0m\n\u001b[1;37m         ^\u001b[0m\n\u001b[1;31mSyntaxError\u001b[0m\u001b[1;31m:\u001b[0m invalid syntax\n"
     ]
    }
   ],
   "source": [
    "def divide(x, y):\n",
    "    return x / y\n",
    "\n",
    "result = divide(10, 0)\n",
    "print(\"Result:\", result)\n",
    "\n",
    "##In this example, we define a divide function that attempts to perform a division operation between x and y. We then call this function with x set to 10 and y set to 0.\n",
    "\n",
    "When this code is executed, it will raise a ZeroDivisionError because division by zero is not allowed in Python. Since we haven't included any exception handling code (i.e., no try and except blocks) to catch this exception, it will propagate up the call stack to the top level of the program.\n",
    "\n",
    "##The program will terminate abruptly, and you'll see an error message like this:\n",
    "\n",
    "ZeroDivisionError: division by zero"
   ]
  },
  {
   "cell_type": "markdown",
   "id": "f6c78192",
   "metadata": {},
   "source": [
    "##Q3 Which python statement are used to catch and handle exceptions? explain with an examples?"
   ]
  },
  {
   "cell_type": "code",
   "execution_count": null,
   "id": "7b468574",
   "metadata": {},
   "outputs": [],
   "source": [
    "In Python, you can catch and handle exceptions using the try and except statements. These statements allow you to specify a block of code that might raise an exception and define how to respond to that exception if it occurs. Here's the syntax for using try and except:"
   ]
  },
  {
   "cell_type": "code",
   "execution_count": 4,
   "id": "d18928c6",
   "metadata": {},
   "outputs": [
    {
     "ename": "IndentationError",
     "evalue": "expected an indented block (1345775658.py, line 3)",
     "output_type": "error",
     "traceback": [
      "\u001b[1;36m  File \u001b[1;32m\"C:\\Users\\samee\\AppData\\Local\\Temp\\ipykernel_11440\\1345775658.py\"\u001b[1;36m, line \u001b[1;32m3\u001b[0m\n\u001b[1;33m    except ExceptionType as exception_variable:\u001b[0m\n\u001b[1;37m    ^\u001b[0m\n\u001b[1;31mIndentationError\u001b[0m\u001b[1;31m:\u001b[0m expected an indented block\n"
     ]
    }
   ],
   "source": [
    "try:\n",
    "    # Code that might raise an exception\n",
    "except ExceptionType as exception_variable:\n",
    "    # Code to handle the exception"
   ]
  },
  {
   "cell_type": "code",
   "execution_count": null,
   "id": "0b14c435",
   "metadata": {},
   "outputs": [],
   "source": [
    "The try block contains the code where an exception might occur.\n",
    "If an exception of the specified ExceptionType occurs within the try block, the program jumps to the corresponding except block.\n",
    "Inside the except block, you can handle the exception, log an error, or take appropriate actions.\n",
    "Here's an example that illustrates the use of try and except to handle a ZeroDivisionError:"
   ]
  },
  {
   "cell_type": "code",
   "execution_count": 5,
   "id": "bd15b20d",
   "metadata": {},
   "outputs": [
    {
     "ename": "IndentationError",
     "evalue": "expected an indented block (1345775658.py, line 3)",
     "output_type": "error",
     "traceback": [
      "\u001b[1;36m  File \u001b[1;32m\"C:\\Users\\samee\\AppData\\Local\\Temp\\ipykernel_11440\\1345775658.py\"\u001b[1;36m, line \u001b[1;32m3\u001b[0m\n\u001b[1;33m    except ExceptionType as exception_variable:\u001b[0m\n\u001b[1;37m    ^\u001b[0m\n\u001b[1;31mIndentationError\u001b[0m\u001b[1;31m:\u001b[0m expected an indented block\n"
     ]
    }
   ],
   "source": [
    "try:\n",
    "    # Code that might raise an exception\n",
    "except ExceptionType as exception_variable:\n",
    "    # Code to handle the exception"
   ]
  },
  {
   "cell_type": "markdown",
   "id": "a75be96f",
   "metadata": {},
   "source": [
    "##Q4. Explain with an example:\n",
    "a.try and else\n",
    "b.finally\n",
    "c.raise"
   ]
  },
  {
   "cell_type": "code",
   "execution_count": null,
   "id": "010cc794",
   "metadata": {},
   "outputs": [],
   "source": [
    "Ans-In Python, you can use the try and else blocks together to specify a block of code that should run if no exceptions are raised within the try block. If an exception occurs, the code in the else block will not be executed. Here's an example:"
   ]
  },
  {
   "cell_type": "code",
   "execution_count": 6,
   "id": "d5617ac8",
   "metadata": {},
   "outputs": [
    {
     "name": "stdout",
     "output_type": "stream",
     "text": [
      "Division successful. Result: 5.0\n"
     ]
    }
   ],
   "source": [
    "try:\n",
    "    x = 10\n",
    "    y = 2\n",
    "    result = x / y  # This division should succeed\n",
    "except ZeroDivisionError as e:\n",
    "    print(\"Error:\", e)\n",
    "else:\n",
    "    print(\"Division successful. Result:\", result)\n"
   ]
  },
  {
   "cell_type": "code",
   "execution_count": null,
   "id": "52dd960b",
   "metadata": {},
   "outputs": [],
   "source": [
    "##The finally block is used to specify a block of code that will be executed regardless of whether an exception is raised or not. It is often used for cleanup operations, such as closing files or releasing resources. Here's an example:"
   ]
  },
  {
   "cell_type": "code",
   "execution_count": 8,
   "id": "9811bd25",
   "metadata": {},
   "outputs": [],
   "source": [
    "try:\n",
    "    file = open('example.txt', 'r')\n",
    "    data = file.read()\n",
    "    # Perform some operations with the data\n",
    "except FileNotFoundError as e:\n",
    "    print(\"File not found:\", e)\n",
    "finally:\n",
    "    file.close() "
   ]
  },
  {
   "cell_type": "code",
   "execution_count": null,
   "id": "0a21cd3d",
   "metadata": {},
   "outputs": [],
   "source": [
    "raise:\n",
    "The raise statement is used to explicitly raise an exception in your code. You can use it to create custom exceptions or re-raise exceptions with additional information. Here's an example:"
   ]
  },
  {
   "cell_type": "code",
   "execution_count": 9,
   "id": "78e9307f",
   "metadata": {},
   "outputs": [
    {
     "name": "stdout",
     "output_type": "stream",
     "text": [
      "Error: Division by zero is not allowed\n"
     ]
    }
   ],
   "source": [
    "def divide(x, y):\n",
    "    if y == 0:\n",
    "        raise ValueError(\"Division by zero is not allowed\")\n",
    "    return x / y\n",
    "\n",
    "try:\n",
    "    result = divide(10, 0)\n",
    "except ValueError as e:\n",
    "    print(\"Error:\", e)"
   ]
  },
  {
   "cell_type": "markdown",
   "id": "3a3a0412",
   "metadata": {},
   "source": [
    "##Q5 What are custom exceptions in python? why do we need custom Excptions? Explain with an Example"
   ]
  },
  {
   "cell_type": "code",
   "execution_count": null,
   "id": "e3b36501",
   "metadata": {},
   "outputs": [],
   "source": [
    "Custom exceptions in Python are user-defined exceptions that allow you to create your own exception classes to represent specific error conditions in your code. While Python provides a wide range of built-in exception classes, sometimes you need to create custom exceptions to handle situations that are specific to your application or library. Custom exceptions can improve code readability, maintainability, and error handling by providing more context and specific information about what went wrong.\n",
    "\n",
    "1.Specific Error Handling: Custom exceptions allow you to define error conditions that are specific to your program or library. This makes it easier to identify and handle these errors with precision.\n",
    "\n",
    "2.Code Readability: Using custom exceptions can make your code more self-explanatory and easier to read. When you raise or catch a custom exception, it provides a clear indication of the problem being addressed.\n",
    "3.Modularity: Custom exceptions promote modularity and encapsulation. They allow you to hide implementation details and expose only the high-level error conditions to the calling code.\n",
    "\n",
    "4.Documentation: Custom exceptions can serve as documentation for your code. They describe what exceptional conditions can occur and what they mean, making it easier for other developers (or your future self) to understand how to use your code correctly.    "
   ]
  },
  {
   "cell_type": "code",
   "execution_count": 10,
   "id": "2415aa68",
   "metadata": {},
   "outputs": [
    {
     "name": "stdout",
     "output_type": "stream",
     "text": [
      "Error: Negative values are not allowed: -9\n"
     ]
    }
   ],
   "source": [
    "class NegativeValueError(Exception):\n",
    "    def __init__(self, value):\n",
    "        self.value = value\n",
    "        super().__init__(f\"Negative values are not allowed: {value}\")\n",
    "\n",
    "def calculate_square_root(number):\n",
    "    if number < 0:\n",
    "        raise NegativeValueError(number)\n",
    "    return number ** 0.5\n",
    "\n",
    "try:\n",
    "    result = calculate_square_root(-9)\n",
    "except NegativeValueError as e:\n",
    "    print(\"Error:\", e)\n",
    "else:\n",
    "    print(\"Square root:\", result)"
   ]
  },
  {
   "cell_type": "markdown",
   "id": "26162a70",
   "metadata": {},
   "source": [
    "##Q6 Create a custom exception class. use this class to handle an exception?\n"
   ]
  },
  {
   "cell_type": "code",
   "execution_count": null,
   "id": "8acceaee",
   "metadata": {},
   "outputs": [],
   "source": [
    "Ans-Sure, let's create a custom exception class and then use it to handle an exception. In this example, we'll create a custom exception called InvalidInputError to handle situations where invalid input data is provided. Here's the code:"
   ]
  },
  {
   "cell_type": "code",
   "execution_count": 11,
   "id": "79e10d1b",
   "metadata": {},
   "outputs": [
    {
     "name": "stdout",
     "output_type": "stream",
     "text": [
      "Enter a number: 10\n",
      "Processed data: 10\n"
     ]
    }
   ],
   "source": [
    "class InvalidInputError(Exception):\n",
    "    def __init__(self, input_value):\n",
    "        self.input_value = input_value\n",
    "        super().__init__(f\"Invalid input: {input_value}\")\n",
    "\n",
    "def process_data(data):\n",
    "    if not data.isnumeric():\n",
    "        raise InvalidInputError(data)\n",
    "    return int(data)\n",
    "\n",
    "try:\n",
    "    user_input = input(\"Enter a number: \")\n",
    "    result = process_data(user_input)\n",
    "    print(\"Processed data:\", result)\n",
    "except InvalidInputError as e:\n",
    "    print(\"Error:\", e)"
   ]
  },
  {
   "cell_type": "code",
   "execution_count": null,
   "id": "355ab155",
   "metadata": {},
   "outputs": [],
   "source": []
  }
 ],
 "metadata": {
  "kernelspec": {
   "display_name": "Python 3 (ipykernel)",
   "language": "python",
   "name": "python3"
  },
  "language_info": {
   "codemirror_mode": {
    "name": "ipython",
    "version": 3
   },
   "file_extension": ".py",
   "mimetype": "text/x-python",
   "name": "python",
   "nbconvert_exporter": "python",
   "pygments_lexer": "ipython3",
   "version": "3.9.13"
  }
 },
 "nbformat": 4,
 "nbformat_minor": 5
}

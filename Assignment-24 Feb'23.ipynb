{
 "cells": [
  {
   "cell_type": "markdown",
   "id": "1d01bf8b-c7a0-441c-af1f-ea5d3625323a",
   "metadata": {},
   "source": [
    "Q1. List any five functions of the pandas library with execution."
   ]
  },
  {
   "cell_type": "code",
   "execution_count": null,
   "id": "878857e4-0cdb-4afe-ab3f-7dfabfc1300d",
   "metadata": {},
   "outputs": [],
   "source": [
    "Ans-Certainly! Here are five functions from the Pandas library along with their execution examples:\n",
    "1.read_csv()\n",
    "2.head()\n",
    "3.shape\n",
    "4.describe()\n",
    "5.groupby()"
   ]
  },
  {
   "cell_type": "code",
   "execution_count": 3,
   "id": "8ff33d08-7053-44e7-a02a-87d5e0a9f0e1",
   "metadata": {},
   "outputs": [],
   "source": [
    "import pandas as pd"
   ]
  },
  {
   "cell_type": "code",
   "execution_count": null,
   "id": "884c3c9a-9035-4b3c-9d0c-a1a11068a643",
   "metadata": {},
   "outputs": [],
   "source": [
    "data = pd.read_csv('data.csv')\n",
    "data.head()\n",
    "data.describe()\n",
    "data.shape\n",
    "grouped_data = data.groupby('Category')['Price'].mean()"
   ]
  },
  {
   "cell_type": "markdown",
   "id": "ce9f946e-1cb6-4c48-bb02-47ed2b31b8d6",
   "metadata": {},
   "source": [
    "Q2. Given a Pandas DataFrame df with columns 'A', 'B', and 'C', write a Python function to re-index the\n",
    "DataFrame with a new index that starts from 1 and increments by 2 for each row."
   ]
  },
  {
   "cell_type": "code",
   "execution_count": 4,
   "id": "3d9059bc-3f11-4eee-8d12-b982e832ed76",
   "metadata": {},
   "outputs": [
    {
     "name": "stdout",
     "output_type": "stream",
     "text": [
      "    A   B   C\n",
      "1  10  40  70\n",
      "3  20  50  80\n",
      "5  30  60  90\n"
     ]
    }
   ],
   "source": [
    "import pandas as pd\n",
    "\n",
    "def reindex_with_custom_index(df):\n",
    "    # Create a new index starting from 1 and incrementing by 2\n",
    "    new_index = range(1, len(df) * 2, 2)\n",
    "    \n",
    "    # Use the reset_index() function to re-index the DataFrame\n",
    "    df = df.reset_index(drop=True)\n",
    "    \n",
    "    # Assign the new index to the DataFrame\n",
    "    df.index = new_index\n",
    "    \n",
    "    return df\n",
    "\n",
    "# Example usage:\n",
    "data = {'A': [10, 20, 30],\n",
    "        'B': [40, 50, 60],\n",
    "        'C': [70, 80, 90]}\n",
    "\n",
    "df = pd.DataFrame(data)\n",
    "\n",
    "# Re-index the DataFrame\n",
    "df = reindex_with_custom_index(df)\n",
    "\n",
    "# Display the DataFrame with the new index\n",
    "print(df)"
   ]
  },
  {
   "cell_type": "markdown",
   "id": "e9d5dd62-f3ba-417e-945f-a0aeb68a7d13",
   "metadata": {},
   "source": [
    "Q3. You have a Pandas DataFrame df with a column named 'Values'. Write a Python function that\n",
    "iterates over the DataFrame and calculates the sum of the first three values in the 'Values' column. The\n",
    "function should print the sum to the console."
   ]
  },
  {
   "cell_type": "code",
   "execution_count": 5,
   "id": "9e2620fb-f47f-4733-9fe5-e51416ab2450",
   "metadata": {},
   "outputs": [
    {
     "name": "stdout",
     "output_type": "stream",
     "text": [
      "Sum of the first three values: 60\n"
     ]
    }
   ],
   "source": [
    "import pandas as pd\n",
    "\n",
    "def calculate_sum_of_first_three_values(df):\n",
    "    # Extract the 'Values' column as a Series\n",
    "    values_column = df['Values']\n",
    "    \n",
    "    # Calculate the sum of the first three values\n",
    "    sum_of_first_three_values = values_column.head(3).sum()\n",
    "    \n",
    "    # Print the result to the console\n",
    "    print(\"Sum of the first three values:\", sum_of_first_three_values)\n",
    "\n",
    "# Example usage:\n",
    "data = {'Values': [10, 20, 30, 40, 50]}\n",
    "\n",
    "df = pd.DataFrame(data)\n",
    "\n",
    "# Call the function to calculate and print the sum\n",
    "calculate_sum_of_first_three_values(df)"
   ]
  },
  {
   "cell_type": "markdown",
   "id": "2c82961e-0742-41aa-a217-8118f69dbec8",
   "metadata": {},
   "source": [
    "Q4. Given a Pandas DataFrame df with a column 'Text', write a Python function to create a new column\n",
    "'Word_Count' that contains the number of words in each row of the 'Text' column."
   ]
  },
  {
   "cell_type": "code",
   "execution_count": 6,
   "id": "6d2716da-db7f-4264-959b-7ea460a60cc4",
   "metadata": {},
   "outputs": [
    {
     "name": "stdout",
     "output_type": "stream",
     "text": [
      "                         Text  Word_Count\n",
      "0  This is a sample sentence.           5\n",
      "1       Count the words here.           4\n",
      "2            Another example.           2\n"
     ]
    }
   ],
   "source": [
    "import pandas as pd\n",
    "\n",
    "def add_word_count_column(df):\n",
    "    # Split each row in the 'Text' column by whitespace and count the number of resulting elements\n",
    "    df['Word_Count'] = df['Text'].apply(lambda x: len(str(x).split()))\n",
    "    \n",
    "    return df\n",
    "\n",
    "# Example usage:\n",
    "data = {'Text': [\"This is a sample sentence.\", \"Count the words here.\", \"Another example.\"]}\n",
    "\n",
    "df = pd.DataFrame(data)\n",
    "\n",
    "# Call the function to add the 'Word_Count' column\n",
    "df = add_word_count_column(df)\n",
    "\n",
    "# Display the DataFrame with the new 'Word_Count' column\n",
    "print(df)"
   ]
  },
  {
   "cell_type": "markdown",
   "id": "a38ee527-7648-45af-8bfe-cbb85a83b11a",
   "metadata": {},
   "source": [
    "Q5. How are DataFrame.size() and DataFrame.shape() different?"
   ]
  },
  {
   "cell_type": "code",
   "execution_count": null,
   "id": "d2f2190f-1a02-4346-8b27-f9af2ded956b",
   "metadata": {},
   "outputs": [],
   "source": [
    "DataFrame.size:"
   ]
  },
  {
   "cell_type": "code",
   "execution_count": 10,
   "id": "e1640cc9-1421-4c45-ad4e-3494f3c9b36f",
   "metadata": {},
   "outputs": [],
   "source": [
    "\n",
    "data = {'A': [1, 2, 3], 'B': [4, 5, 6]}\n",
    "df = pd.DataFrame(data)\n",
    "\n",
    "size = df.size  # Returns 6 (3 rows * 2 columns)"
   ]
  },
  {
   "cell_type": "code",
   "execution_count": null,
   "id": "dce015ff-1af3-4bf2-b68b-8cdbc6bcadd0",
   "metadata": {},
   "outputs": [],
   "source": [
    "DataFrame.shape"
   ]
  },
  {
   "cell_type": "code",
   "execution_count": 11,
   "id": "0ee8de6a-23e0-4b39-b943-353c5dd6aa41",
   "metadata": {},
   "outputs": [],
   "source": [
    "import pandas as pd\n",
    "\n",
    "data = {'A': [1, 2, 3], 'B': [4, 5, 6]}\n",
    "df = pd.DataFrame(data)\n",
    "\n",
    "shape = df.shape  # Returns (3, 2) indicating 3 rows and 2 columns\n",
    "num_rows = df.shape[0]  # Returns 3\n",
    "num_columns = df.shape[1]  # Returns 2"
   ]
  },
  {
   "cell_type": "markdown",
   "id": "a0588cb2-9d2c-4e59-a2f5-24dc48bd78f1",
   "metadata": {},
   "source": [
    "Q6. Which function of pandas do we use to read an excel file?"
   ]
  },
  {
   "cell_type": "code",
   "execution_count": null,
   "id": "cf77cc88-fab4-4a9c-924f-f9b0ee530d44",
   "metadata": {},
   "outputs": [],
   "source": [
    "df = pd.read_excel('your_excel_file.xlsx')"
   ]
  },
  {
   "cell_type": "markdown",
   "id": "cf6aa594-9510-4c31-8fd2-ac427fead67e",
   "metadata": {},
   "source": [
    "Q7. You have a Pandas DataFrame df that contains a column named 'Email' that contains email\n",
    "addresses in the format 'username@domain.com'. Write a Python function that creates a new column\n",
    "'Username' in df that contains only the username part of each email address.\n",
    "The username is the part of the email address that appears before the '@' symbol. For example, if the\n",
    "email address is 'john.doe@example.com', the 'Username' column should contain 'john.doe'. Your\n",
    "function should extract the username from each email address and store it in the new 'Username'"
   ]
  },
  {
   "cell_type": "code",
   "execution_count": 12,
   "id": "891be6b3-309f-49bc-b71a-045ef52c4865",
   "metadata": {},
   "outputs": [
    {
     "name": "stdout",
     "output_type": "stream",
     "text": [
      "                    Email    Username\n",
      "0    john.doe@example.com    john.doe\n",
      "1  jane.smith@example.com  jane.smith\n",
      "2           bob@gmail.com         bob\n"
     ]
    }
   ],
   "source": [
    "import pandas as pd\n",
    "\n",
    "def extract_username_from_email(df):\n",
    "    # Use the str.split() method to split the 'Email' column by '@' and get the first part\n",
    "    df['Username'] = df['Email'].str.split('@').str[0]\n",
    "    \n",
    "    return df\n",
    "\n",
    "# Example usage:\n",
    "data = {'Email': ['john.doe@example.com', 'jane.smith@example.com', 'bob@gmail.com']}\n",
    "\n",
    "df = pd.DataFrame(data)\n",
    "\n",
    "# Call the function to extract and add the 'Username' column\n",
    "df = extract_username_from_email(df)\n",
    "\n",
    "# Display the DataFrame with the new 'Username' column\n",
    "print(df)"
   ]
  },
  {
   "cell_type": "markdown",
   "id": "4a256126-07c8-40b7-a79b-83cfa0bfea2f",
   "metadata": {},
   "source": [
    "Q8. You have a Pandas DataFrame df with columns 'A', 'B', and 'C'. Write a Python function that selects\n",
    "all rows where the value in column 'A' is greater than 5 and the value in column 'B' is less than 10. The\n",
    "function should return a new DataFrame that contains only the selected rows."
   ]
  },
  {
   "cell_type": "code",
   "execution_count": 14,
   "id": "3119cac0-ebfb-4d35-aae2-d24a5e0d72b8",
   "metadata": {},
   "outputs": [
    {
     "name": "stdout",
     "output_type": "stream",
     "text": [
      "   A  B   C\n",
      "0  6  9  12\n",
      "2  8  4   5\n",
      "4  7  2   9\n"
     ]
    }
   ],
   "source": [
    "import pandas as pd\n",
    "\n",
    "def select_rows_with_conditions(df):\n",
    "    # Use boolean indexing to select rows based on conditions in columns 'A' and 'B'\n",
    "    selected_rows = df[(df['A'] > 5) & (df['B'] < 10)]\n",
    "    \n",
    "    return selected_rows\n",
    "\n",
    "# Example usage:\n",
    "data = {'A': [6, 3, 8, 2, 7],\n",
    "        'B': [9, 5, 4, 11, 2],\n",
    "        'C': [12, 8, 5, 7, 9]}\n",
    "\n",
    "df = pd.DataFrame(data)\n",
    "\n",
    "# Call the function to select rows based on conditions\n",
    "selected_df = select_rows_with_conditions(df)\n",
    "\n",
    "# Display the selected DataFrame\n",
    "print(selected_df)"
   ]
  },
  {
   "cell_type": "markdown",
   "id": "59112ec2-5631-490a-8fe1-065f163aaba6",
   "metadata": {},
   "source": [
    "Q9. Given a Pandas DataFrame df with a column 'Values', write a Python function to calculate the mean,\n",
    "median, and standard deviation of the values in the 'Values' column."
   ]
  },
  {
   "cell_type": "code",
   "execution_count": 15,
   "id": "79992a0c-0351-4dbc-97cd-9dad30bf4144",
   "metadata": {},
   "outputs": [
    {
     "name": "stdout",
     "output_type": "stream",
     "text": [
      "Mean: 30.0\n",
      "Median: 30.0\n",
      "Standard Deviation: 15.811388300841896\n"
     ]
    }
   ],
   "source": [
    "import pandas as pd\n",
    "\n",
    "def calculate_stats(df):\n",
    "    # Calculate the mean, median, and standard deviation\n",
    "    mean_value = df['Values'].mean()\n",
    "    median_value = df['Values'].median()\n",
    "    std_deviation = df['Values'].std()\n",
    "    \n",
    "    return mean_value, median_value, std_deviation\n",
    "\n",
    "# Example usage:\n",
    "data = {'Values': [10, 20, 30, 40, 50]}\n",
    "\n",
    "df = pd.DataFrame(data)\n",
    "\n",
    "# Call the function to calculate statistics\n",
    "mean, median, std = calculate_stats(df)\n",
    "\n",
    "# Display the calculated statistics\n",
    "print(f\"Mean: {mean}\")\n",
    "print(f\"Median: {median}\")\n",
    "print(f\"Standard Deviation: {std}\")"
   ]
  },
  {
   "cell_type": "markdown",
   "id": "56aa36da-e486-408e-b1f5-f82bd0e06c15",
   "metadata": {},
   "source": [
    "Q10. Given a Pandas DataFrame df with a column 'Sales' and a column 'Date', write a Python function to\n",
    "create a new column 'MovingAverage' that contains the moving average of the sales for the past 7 days\n",
    "for each row in the DataFrame. The moving average should be calculated using a window of size 7 and\n",
    "should include the current day."
   ]
  },
  {
   "cell_type": "code",
   "execution_count": 16,
   "id": "ca007013-3383-4e50-bfec-a103ec386fac",
   "metadata": {},
   "outputs": [
    {
     "name": "stdout",
     "output_type": "stream",
     "text": [
      "        Date  Sales  MovingAverage\n",
      "0 2023-09-01    100     100.000000\n",
      "1 2023-09-02    120     110.000000\n",
      "2 2023-09-03    130     116.666667\n",
      "3 2023-09-04    110     115.000000\n",
      "4 2023-09-05    150     122.000000\n",
      "5 2023-09-06    140     125.000000\n",
      "6 2023-09-07    160     130.000000\n",
      "7 2023-09-08    170     140.000000\n",
      "8 2023-09-09    180     148.571429\n",
      "9 2023-09-10    190     157.142857\n"
     ]
    }
   ],
   "source": [
    "import pandas as pd\n",
    "\n",
    "def calculate_moving_average(df):\n",
    "    # Sort the DataFrame by the 'Date' column if it's not already sorted\n",
    "    df = df.sort_values(by='Date')\n",
    "\n",
    "    # Calculate the moving average with a window of 7 days\n",
    "    df['MovingAverage'] = df['Sales'].rolling(window=7, min_periods=1).mean()\n",
    "\n",
    "    return df\n",
    "\n",
    "# Example usage:\n",
    "data = {'Date': pd.date_range(start='2023-09-01', periods=10),\n",
    "        'Sales': [100, 120, 130, 110, 150, 140, 160, 170, 180, 190]}\n",
    "\n",
    "df = pd.DataFrame(data)\n",
    "\n",
    "# Call the function to calculate the moving average\n",
    "df = calculate_moving_average(df)\n",
    "\n",
    "# Display the DataFrame with the 'MovingAverage' column\n",
    "print(df)"
   ]
  },
  {
   "cell_type": "markdown",
   "id": "27b7d572-efd9-42bf-8889-74bbcd14ce9d",
   "metadata": {},
   "source": [
    "Q11. You have a Pandas DataFrame df with a column 'Date'. Write a Python function that creates a new\n",
    "column 'Weekday' in the DataFrame. The 'Weekday' column should contain the weekday name (e.g.\n",
    "Monday, Tuesday) corresponding to each date in the 'Date' column."
   ]
  },
  {
   "cell_type": "code",
   "execution_count": 17,
   "id": "7aa40d55-abb8-491a-beee-5eb26773e043",
   "metadata": {},
   "outputs": [
    {
     "name": "stdout",
     "output_type": "stream",
     "text": [
      "        Date    Weekday\n",
      "0 2023-09-25     Monday\n",
      "1 2023-09-26    Tuesday\n",
      "2 2023-09-27  Wednesday\n",
      "3 2023-09-28   Thursday\n",
      "4 2023-09-29     Friday\n"
     ]
    }
   ],
   "source": [
    "import pandas as pd\n",
    "\n",
    "def add_weekday_column(df):\n",
    "    # Convert the 'Date' column to datetime if it's not already\n",
    "    df['Date'] = pd.to_datetime(df['Date'])\n",
    "    \n",
    "    # Extract the weekday name and store it in the 'Weekday' column\n",
    "    df['Weekday'] = df['Date'].dt.strftime('%A')\n",
    "    \n",
    "    return df\n",
    "\n",
    "# Example usage:\n",
    "data = {'Date': ['2023-09-25', '2023-09-26', '2023-09-27', '2023-09-28', '2023-09-29']}\n",
    "\n",
    "df = pd.DataFrame(data)\n",
    "\n",
    "# Call the function to add the 'Weekday' column\n",
    "df = add_weekday_column(df)\n",
    "\n",
    "# Display the DataFrame with the new 'Weekday' column\n",
    "print(df)"
   ]
  },
  {
   "cell_type": "markdown",
   "id": "d4d0b916-ed03-48c2-9337-d6b0dc784d50",
   "metadata": {},
   "source": [
    "Q12. Given a Pandas DataFrame df with a column 'Date' that contains timestamps, write a Python\n",
    "function to select all rows where the date is between '2023-01-01' and '2023-01-31'."
   ]
  },
  {
   "cell_type": "code",
   "execution_count": 18,
   "id": "c694e664-bb9e-4291-9746-c08142b65286",
   "metadata": {},
   "outputs": [
    {
     "name": "stdout",
     "output_type": "stream",
     "text": [
      "        Date\n",
      "0 2023-01-15\n",
      "2 2023-01-05\n",
      "4 2023-01-25\n"
     ]
    }
   ],
   "source": [
    "import pandas as pd\n",
    "\n",
    "def select_rows_between_dates(df):\n",
    "    # Convert the 'Date' column to datetime if it's not already\n",
    "    df['Date'] = pd.to_datetime(df['Date'])\n",
    "\n",
    "    # Define the start and end date for the range\n",
    "    start_date = '2023-01-01'\n",
    "    end_date = '2023-01-31'\n",
    "\n",
    "    # Use boolean indexing to select rows between the start and end dates\n",
    "    selected_rows = df[(df['Date'] >= start_date) & (df['Date'] <= end_date)]\n",
    "\n",
    "    return selected_rows\n",
    "\n",
    "# Example usage:\n",
    "data = {'Date': ['2023-01-15', '2023-02-10', '2023-01-05', '2023-03-20', '2023-01-25']}\n",
    "\n",
    "df = pd.DataFrame(data)\n",
    "\n",
    "# Call the function to select rows between the specified dates\n",
    "selected_df = select_rows_between_dates(df)\n",
    "\n",
    "# Display the selected DataFrame\n",
    "print(selected_df)"
   ]
  },
  {
   "cell_type": "markdown",
   "id": "7083bb8b-e28c-45f9-8854-10a666fa4b63",
   "metadata": {},
   "source": [
    "Q13. To use the basic functions of pandas, what is the first and foremost necessary library that needs to\n",
    "be imported?"
   ]
  },
  {
   "cell_type": "code",
   "execution_count": null,
   "id": "c3b86c30-7774-47d7-b85a-9e743a703ab4",
   "metadata": {},
   "outputs": [],
   "source": []
  }
 ],
 "metadata": {
  "kernelspec": {
   "display_name": "Python 3 (ipykernel)",
   "language": "python",
   "name": "python3"
  },
  "language_info": {
   "codemirror_mode": {
    "name": "ipython",
    "version": 3
   },
   "file_extension": ".py",
   "mimetype": "text/x-python",
   "name": "python",
   "nbconvert_exporter": "python",
   "pygments_lexer": "ipython3",
   "version": "3.10.8"
  }
 },
 "nbformat": 4,
 "nbformat_minor": 5
}

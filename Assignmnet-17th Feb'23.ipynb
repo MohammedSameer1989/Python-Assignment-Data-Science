{
 "cells": [
  {
   "cell_type": "markdown",
   "id": "d64d2703-ee01-4f6f-b4cc-7db77d5b31d6",
   "metadata": {},
   "source": [
    "##Q1. What is MongoDB? Explain non-relational databases in short. In which scenarios it is preferred to use\n",
    "MongoDB over SQL databases?"
   ]
  },
  {
   "cell_type": "code",
   "execution_count": null,
   "id": "7a04bcae-66e5-49d8-b637-1681ab199f65",
   "metadata": {},
   "outputs": [],
   "source": [
    "Ans-MongoDB is a popular NoSQL (non-relational) database management system that is designed for the storage and retrieval of unstructured or semi-structured data. Unlike traditional SQL databases, MongoDB uses a flexible, document-oriented data model, which means data is stored in collections of documents, typically in JSON-like BSON (Binary JSON) format.\n",
    "\n",
    "Key features of MongoDB and non-relational databases in general include:\n",
    "\n",
    "Schema Flexibility: Non-relational databases like MongoDB allow for flexible data models, where each document in a collection can have a different structure. This flexibility is particularly useful for handling semi-structured and rapidly changing data.\n",
    "\n",
    "Horizontal Scalability: Many NoSQL databases, including MongoDB, are designed to scale horizontally, making it easier to handle large volumes of data and high traffic loads. This is advantageous for applications that need to scale out.\n",
    "\n",
    "No Fixed Schema: Unlike SQL databases with rigid schemas, NoSQL databases do not enforce a fixed schema, allowing you to add or modify fields in documents without affecting existing data."
   ]
  },
  {
   "cell_type": "code",
   "execution_count": null,
   "id": "dfaf87d7-bf20-4eca-9ec4-d9ce285fbe13",
   "metadata": {},
   "outputs": [],
   "source": [
    "Support for Large Documents: NoSQL databases can handle large documents efficiently, making them suitable for use cases where you need to store complex data structures, such as JSON documents, arrays, and nested objects.\n",
    "\n",
    "Query Flexibility: NoSQL databases typically provide flexible querying capabilities that allow you to query based on the structure and content of documents. MongoDB, for example, uses a rich query language for this purpose.\n",
    "\n",
    "Geospatial Indexing: MongoDB offers geospatial indexing, making it well-suited for location-based applications.\n",
    "\n",
    "High Write Throughput: NoSQL databases are often chosen for applications with high write throughput requirements, such as logging, social media, and IoT platforms."
   ]
  },
  {
   "cell_type": "markdown",
   "id": "abb4d796-b947-41d1-b650-3f1fb14db6d9",
   "metadata": {},
   "source": [
    "##Q2. State and Explain the features of MongoDB."
   ]
  },
  {
   "cell_type": "code",
   "execution_count": null,
   "id": "7092aab4-cc67-4cb4-a754-ddbe082dcdb4",
   "metadata": {},
   "outputs": [],
   "source": [
    "MongoDB is a popular NoSQL database management system known for its flexibility and scalability. It offers a wide range of features that make it suitable for various use cases. Here are some of the key features of MongoDB:\n",
    "\n",
    "Document-Oriented: MongoDB stores data in a flexible, document-oriented format known as BSON (Binary JSON). Documents can have different structures within the same collection, making it easy to work with semi-structured and unstructured data.\n",
    "\n",
    "Schema Flexibility: Unlike traditional SQL databases with fixed schemas, MongoDB allows you to change the structure of documents on the fly. This flexibility is particularly valuable in agile development environments.\n",
    "\n",
    "JSON-Like Documents: MongoDB documents are similar to JSON (JavaScript Object Notation), which is a human-readable and widely supported data format. This makes it easy to work with MongoDB data in various programming languages.\n",
    "\n",
    "Rich Query Language: MongoDB provides a powerful and expressive query language for retrieving and manipulating data. You can query documents based on their content and structure, including support for complex queries and aggregation."
   ]
  },
  {
   "cell_type": "code",
   "execution_count": null,
   "id": "de7a6d49-827a-4472-9fc3-41abd20f5999",
   "metadata": {},
   "outputs": [],
   "source": [
    "Indexing: MongoDB supports various types of indexes, including single-field, compound, geospatial, and text indexes. Indexing helps improve query performance and allows for efficient searching.\n",
    "\n",
    "Horizontal Scalability: MongoDB is designed to scale horizontally by distributing data across multiple servers or nodes. This makes it suitable for handling large data volumes and high traffic loads.\n",
    "\n",
    "Automatic Sharding: MongoDB offers automatic sharding, allowing you to partition data across multiple machines to ensure horizontal scalability and fault tolerance.\n",
    "\n",
    "Geospatial Data Support: MongoDB provides native support for geospatial data and queries, making it well-suited for location-based applications.\n",
    "\n",
    "Aggregation Framework: MongoDB's aggregation framework allows you to perform data transformation and analysis tasks, including grouping, filtering, and projective operations.\n",
    "\n",
    "Replication: MongoDB supports replica sets, which provide data redundancy and high availability. Replica sets automatically elect a primary node and failover to secondary nodes in case of primary node failure.\n",
    "\n",
    "Document Validation: You can define and enforce data validation rules using JSON Schema or custom validation logic to maintain data integrity.\n",
    "\n",
    "Text Search: MongoDB offers full-text search capabilities, allowing you to search for text within documents and perform linguistic analysis."
   ]
  },
  {
   "cell_type": "markdown",
   "id": "88cd9048-bcfb-47ab-9764-b79101fb540a",
   "metadata": {},
   "source": [
    "##Q3. Write a code to connect MongoDB to Python. Also, create a database and a collection in MongoDB."
   ]
  },
  {
   "cell_type": "code",
   "execution_count": null,
   "id": "295d43fe-64ac-4ad2-ba13-fdc324b96008",
   "metadata": {},
   "outputs": [],
   "source": [
    "Ans-To connect to MongoDB from Python and create a database and a collection, you'll need to use the pymongo library, which is the official Python driver for MongoDB. If you haven't already installed it, you can do so using pip:"
   ]
  },
  {
   "cell_type": "code",
   "execution_count": 1,
   "id": "0f8335c9-ff3b-45e2-8a84-61fd47aeb7e1",
   "metadata": {},
   "outputs": [
    {
     "name": "stdout",
     "output_type": "stream",
     "text": [
      "Collecting pymongo\n",
      "  Downloading pymongo-4.5.0-cp310-cp310-manylinux_2_17_x86_64.manylinux2014_x86_64.whl (671 kB)\n",
      "\u001b[2K     \u001b[90m━━━━━━━━━━━━━━━━━━━━━━━━━━━━━━━━━━━━━━\u001b[0m \u001b[32m671.3/671.3 kB\u001b[0m \u001b[31m14.7 MB/s\u001b[0m eta \u001b[36m0:00:00\u001b[0ma \u001b[36m0:00:01\u001b[0m\n",
      "\u001b[?25hCollecting dnspython<3.0.0,>=1.16.0\n",
      "  Downloading dnspython-2.4.2-py3-none-any.whl (300 kB)\n",
      "\u001b[2K     \u001b[90m━━━━━━━━━━━━━━━━━━━━━━━━━━━━━━━━━━━━━━\u001b[0m \u001b[32m300.4/300.4 kB\u001b[0m \u001b[31m35.7 MB/s\u001b[0m eta \u001b[36m0:00:00\u001b[0m\n",
      "\u001b[?25hInstalling collected packages: dnspython, pymongo\n",
      "Successfully installed dnspython-2.4.2 pymongo-4.5.0\n",
      "Note: you may need to restart the kernel to use updated packages.\n"
     ]
    }
   ],
   "source": [
    "pip install pymongo"
   ]
  },
  {
   "cell_type": "code",
   "execution_count": null,
   "id": "60ab73db-9c79-4d8f-a14e-54598c7d0e12",
   "metadata": {},
   "outputs": [],
   "source": [
    "Here's a Python code example that demonstrates how to connect to MongoDB, create a database, and create a collection within that database:"
   ]
  },
  {
   "cell_type": "code",
   "execution_count": null,
   "id": "062e3553-b071-4280-b73e-e30a95f606c9",
   "metadata": {},
   "outputs": [],
   "source": [
    "import pymongo\n",
    "\n",
    "# Replace with your MongoDB connection string\n",
    "mongo_uri = \"mongodb://localhost:27017/\"\n",
    "\n",
    "# Create a MongoDB client\n",
    "client = pymongo.MongoClient(mongo_uri)\n",
    "\n",
    "# Access a database (replace \"mydatabase\" with your desired database name)\n",
    "db = client[\"mydatabase\"]\n",
    "\n",
    "# Create a collection within the database (replace \"mycollection\" with your collection name)\n",
    "collection = db[\"mycollection\"]\n",
    "\n",
    "# Insert a document into the collection\n",
    "data = {\n",
    "    \"name\": \"John Doe\",\n",
    "    \"email\": \"johndoe@example.com\",\n",
    "    \"age\": 30\n",
    "}\n",
    "\n",
    "# Insert the document into the collection\n",
    "result = collection.insert_one(data)\n",
    "\n",
    "# Check if the document was inserted successfully\n",
    "if result.inserted_id:\n",
    "    print(f\"Document inserted with ID: {result.inserted_id}\")\n",
    "\n",
    "# Close the MongoDB connection\n",
    "client.close()\n"
   ]
  },
  {
   "cell_type": "markdown",
   "id": "df0ba83e-6269-49df-8822-8b0049cfbd6a",
   "metadata": {},
   "source": [
    "##Q4. Using the database and the collection created in question number 3, write a code to insert one record,\n",
    "and insert many records. Use the find() and find_one() methods to print the inserted record."
   ]
  },
  {
   "cell_type": "code",
   "execution_count": null,
   "id": "6a3eb7e0-4c33-47cf-acf7-a5b02f0eed0f",
   "metadata": {},
   "outputs": [],
   "source": [
    "To insert one record and insert many records into the MongoDB collection you created in question number 3, and then use the find() and find_one() methods to retrieve and print the inserted records, you can use the following Python code:"
   ]
  },
  {
   "cell_type": "code",
   "execution_count": null,
   "id": "ae8fc619-f790-4908-b8aa-bd53a5760c97",
   "metadata": {},
   "outputs": [],
   "source": [
    "import pymongo\n",
    "\n",
    "# Replace with your MongoDB connection string\n",
    "mongo_uri = \"mongodb://localhost:27017/\"\n",
    "\n",
    "# Create a MongoDB client\n",
    "client = pymongo.MongoClient(mongo_uri)\n",
    "\n",
    "# Access the database and collection\n",
    "db = client[\"mydatabase\"]\n",
    "collection = db[\"mycollection\"]\n",
    "\n",
    "# Insert one record\n",
    "record_one = {\n",
    "    \"name\": \"Alice Johnson\",\n",
    "    \"email\": \"alice@example.com\",\n",
    "    \"age\": 25\n",
    "}\n",
    "\n",
    "# Insert one record into the collection\n",
    "result_one = collection.insert_one(record_one)\n",
    "\n",
    "# Check if the record was inserted successfully\n",
    "if result_one.inserted_id:\n",
    "    print(f\"Inserted record with ID: {result_one.inserted_id}\")\n",
    "\n",
    "# Insert many records\n",
    "records_many = [\n",
    "    {\n",
    "        \"name\": \"Bob Smith\",\n",
    "        \"email\": \"bob@example.com\",\n",
    "        \"age\": 35\n",
    "    },\n",
    "    {\n",
    "        \"name\": \"Eve Adams\",\n",
    "        \"email\": \"eve@example.com\",\n",
    "        \"age\": 28\n",
    "    }\n",
    "]\n",
    "\n",
    "# Insert multiple records into the collection\n",
    "result_many = collection.insert_many(records_many)\n",
    "\n",
    "# Check if the records were inserted successfully\n",
    "if result_many.inserted_ids:\n",
    "    print(f\"Inserted {len(result_many.inserted_ids)} records\")\n",
    "\n",
    "# Find and print one inserted record\n",
    "found_one = collection.find_one({\"name\": \"Alice Johnson\"})\n",
    "print(\"Found one record:\")\n",
    "print(found_one)\n",
    "\n",
    "# Find and print all inserted records\n",
    "found_all = collection.find()\n",
    "print(\"Found all records:\")\n",
    "for document in found_all:\n",
    "    print(document)\n",
    "\n",
    "# Close the MongoDB connection\n",
    "client.close()\n"
   ]
  },
  {
   "cell_type": "markdown",
   "id": "291a3807-1e95-47aa-b74e-4140ad9f6750",
   "metadata": {},
   "source": [
    "##Q5. Explain how you can use the find() method to query the MongoDB database. Write a simple code to\n",
    "demonstrate this."
   ]
  },
  {
   "cell_type": "code",
   "execution_count": null,
   "id": "018e6aa2-7bcd-426d-a99d-f0c7b7286eb3",
   "metadata": {},
   "outputs": [],
   "source": [
    "Ans-n MongoDB, the find() method is used to query and retrieve documents from a collection based on specified criteria or filters. It allows you to filter and retrieve documents that match specific conditions. Here's an explanation of how to use the find() method and a simple code example to demonstrate its usage:"
   ]
  },
  {
   "cell_type": "code",
   "execution_count": null,
   "id": "e586076c-75b4-4930-8001-a6f5afe61552",
   "metadata": {},
   "outputs": [],
   "source": [
    "filter (optional): Specifies the query conditions to filter documents. It's a dictionary where the keys represent field names, and the values represent the desired values or conditions.\n",
    "\n",
    "projection (optional): Specifies which fields to include or exclude from the query results. It's a dictionary where the keys represent field names, and the values are either 1 (to include) or 0 (to exclude) fields."
   ]
  },
  {
   "cell_type": "code",
   "execution_count": null,
   "id": "e6c7beda-2da4-47bd-9c63-ae006b0c0b57",
   "metadata": {},
   "outputs": [],
   "source": [
    "import pymongo\n",
    "\n",
    "# Replace with your MongoDB connection string\n",
    "mongo_uri = \"mongodb://localhost:27017/\"\n",
    "\n",
    "# Create a MongoDB client\n",
    "client = pymongo.MongoClient(mongo_uri)\n",
    "\n",
    "# Access the database and collection\n",
    "db = client[\"mydatabase\"]\n",
    "collection = db[\"students\"]\n",
    "\n",
    "# Find all documents in the collection\n",
    "all_students = collection.find()\n",
    "\n",
    "# Print all documents\n",
    "print(\"All Students:\")\n",
    "for student in all_students:\n",
    "    print(student)\n",
    "\n",
    "# Find students who are 25 years old\n",
    "filter_criteria = {\"age\": 25}\n",
    "selected_students = collection.find(filter_criteria)\n",
    "\n",
    "# Print selected documents\n",
    "print(\"\\nStudents who are 25 years old:\")\n",
    "for student in selected_students:\n",
    "    print(student)\n",
    "\n",
    "# Close the MongoDB connection\n",
    "client.close()\n"
   ]
  },
  {
   "cell_type": "markdown",
   "id": "a6f7920d-e7bb-4a9e-8b02-da12242f46cd",
   "metadata": {},
   "source": [
    "##Q6. Explain the sort() method. Give an example to demonstrate sorting in MongoDB."
   ]
  },
  {
   "cell_type": "code",
   "execution_count": null,
   "id": "0d404411-6a7a-4e09-ab94-d7ccc8739ec4",
   "metadata": {},
   "outputs": [],
   "source": [
    "Ans-In MongoDB, the sort() method is used to sort the results of a query in ascending or descending order based on one or more fields. You can specify the field(s) by which the results should be sorted and whether the sorting should be in ascending (default) or descending order. The sort() method is commonly used to order query results for presentation or analysis."
   ]
  },
  {
   "cell_type": "code",
   "execution_count": null,
   "id": "dda1f494-3622-4b55-aa40-82450729f78d",
   "metadata": {},
   "outputs": [],
   "source": [
    "query (optional): Specifies the query conditions to filter documents.\n",
    "projection (optional): Specifies which fields to include or exclude from the query results.\n",
    "sort_order: Specifies the sorting order for one or more fields. It is a dictionary where the keys represent field names, and the values can be 1 for ascending order or -1 for descending order."
   ]
  },
  {
   "cell_type": "code",
   "execution_count": null,
   "id": "3bde8b25-000b-481f-a9d8-1d74aa7d13c0",
   "metadata": {},
   "outputs": [],
   "source": [
    "import pymongo\n",
    "\n",
    "# Replace with your MongoDB connection string\n",
    "mongo_uri = \"mongodb://localhost:27017/\"\n",
    "\n",
    "# Create a MongoDB client\n",
    "client = pymongo.MongoClient(mongo_uri)\n",
    "\n",
    "# Access the database and collection\n",
    "db = client[\"mydatabase\"]\n",
    "collection = db[\"products\"]\n",
    "\n",
    "# Find and sort products by price in ascending order\n",
    "ascending_sort = collection.find().sort(\"price\", 1)\n",
    "\n",
    "# Print sorted products\n",
    "print(\"Products Sorted by Price (Ascending):\")\n",
    "for product in ascending_sort:\n",
    "    print(product)\n",
    "\n",
    "# Find and sort products by price in descending order\n",
    "descending_sort = collection.find().sort(\"price\", -1)\n",
    "\n",
    "# Print sorted products\n",
    "print(\"\\nProducts Sorted by Price (Descending):\")\n",
    "for product in descending_sort:\n",
    "    print(product)\n",
    "\n",
    "# Close the MongoDB connection\n",
    "client.close()"
   ]
  },
  {
   "cell_type": "markdown",
   "id": "f0e2703b-193b-459d-a3a5-da1eeeb3d833",
   "metadata": {},
   "source": [
    "##Q7. Explain why delete_one(), delete_many(), and drop() is used."
   ]
  },
  {
   "cell_type": "code",
   "execution_count": null,
   "id": "2beec8bb-814b-4a99-a36d-e0a4f4bd5eae",
   "metadata": {},
   "outputs": [],
   "source": [
    "Ans-In MongoDB, the delete_one(), delete_many(), and drop() methods are used for different purposes to manipulate data and collections. Here's an explanation of each method:"
   ]
  },
  {
   "cell_type": "code",
   "execution_count": null,
   "id": "7d55d3a0-6fb4-4862-8e1b-60e34bfecc68",
   "metadata": {},
   "outputs": [],
   "source": [
    "delete_one():\n",
    "\n",
    "Purpose: The delete_one() method is used to delete a single document that matches a specified filter condition from a collection. It deletes the first document that matches the criteria and stops."
   ]
  },
  {
   "cell_type": "code",
   "execution_count": null,
   "id": "297dcdbe-5c4f-4a71-ae84-f59e58df29e1",
   "metadata": {},
   "outputs": [],
   "source": [
    "delete_many():\n",
    "\n",
    "Purpose: The delete_many() method is used to delete multiple documents that match a specified filter condition from a collection. It continues deleting all documents that match the criteria until no more matching documents are found."
   ]
  },
  {
   "cell_type": "code",
   "execution_count": null,
   "id": "e3c3c700-5cd2-4ab7-b3d8-c0444a21fa51",
   "metadata": {},
   "outputs": [],
   "source": []
  }
 ],
 "metadata": {
  "kernelspec": {
   "display_name": "Python 3 (ipykernel)",
   "language": "python",
   "name": "python3"
  },
  "language_info": {
   "codemirror_mode": {
    "name": "ipython",
    "version": 3
   },
   "file_extension": ".py",
   "mimetype": "text/x-python",
   "name": "python",
   "nbconvert_exporter": "python",
   "pygments_lexer": "ipython3",
   "version": "3.10.8"
  }
 },
 "nbformat": 4,
 "nbformat_minor": 5
}
